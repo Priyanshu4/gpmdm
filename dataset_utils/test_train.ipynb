{
 "cells": [
  {
   "cell_type": "markdown",
   "metadata": {},
   "source": [
    "This file generates the initial test and training sets randomly, which are now fixed in mocap_labels.py"
   ]
  },
  {
   "cell_type": "code",
   "execution_count": 23,
   "metadata": {},
   "outputs": [],
   "source": [
    "# Add the parent directory to the path so that we can import other modules\n",
    "import os\n",
    "import sys\n",
    "module_path = os.path.abspath(os.path.join('..'))\n",
    "if module_path not in sys.path:\n",
    "    sys.path.append(module_path)\n",
    "\n"
   ]
  },
  {
   "cell_type": "code",
   "execution_count": 24,
   "metadata": {},
   "outputs": [],
   "source": [
    "from dataset_utils.mocap_labels import __walk_trials, __run_trials\n",
    "import random"
   ]
  },
  {
   "cell_type": "code",
   "execution_count": 25,
   "metadata": {},
   "outputs": [],
   "source": [
    "def gen_test_train_dicts(trial_dict, proportion_train=0.33333):\n",
    "    # Flatten the dictionary into a list of (subject, trial) pairs\n",
    "    all_trials = [(subject, trial) for subject, trials in trial_dict.items() for trial in trials]\n",
    "\n",
    "    n_train = round(len(all_trials) * proportion_train)\n",
    "\n",
    "    # Randomly select 10 trials\n",
    "    train_trials = random.sample(all_trials, n_train)\n",
    "\n",
    "    # Rebuild the dictionary with selected trials\n",
    "    train_data = {}\n",
    "    for subject, trial in train_trials:\n",
    "        if subject not in train_data:\n",
    "            train_data[subject] = []\n",
    "        train_data[subject].append(trial)\n",
    "\n",
    "    # Put all the remaining trials into the test data\n",
    "    test_data = {}\n",
    "    for subject, trial in all_trials:\n",
    "        if (subject, trial) not in train_trials:\n",
    "            if subject not in test_data:\n",
    "                test_data[subject] = []\n",
    "            test_data[subject].append(trial)\n",
    "\n",
    "    return train_data, test_data"
   ]
  },
  {
   "cell_type": "code",
   "execution_count": 26,
   "metadata": {},
   "outputs": [
    {
     "name": "stdout",
     "output_type": "stream",
     "text": [
      "__walk_trials_train = {8: [3, 2, 5, 7, 10, 1], 7: [4, 2, 6, 8]}\n",
      "__walk_trials_test = {2: [1, 2], 5: [1], 6: [1], 7: [1, 3, 5, 7, 9, 10, 11, 12], 8: [4, 6, 8, 9, 11], 10: [4], 12: [1, 2, 3]}\n"
     ]
    }
   ],
   "source": [
    "walk_train, walk_test = gen_test_train_dicts(__walk_trials, 1/3)\n",
    "print(\"__walk_trials_train =\", walk_train)\n",
    "print(\"__walk_trials_test =\", walk_test)"
   ]
  },
  {
   "cell_type": "code",
   "execution_count": 27,
   "metadata": {},
   "outputs": [
    {
     "name": "stdout",
     "output_type": "stream",
     "text": [
      "__run_trials_train = {9: [11, 6, 8, 4, 7], 2: [3], 16: [56], 35: [25, 24]}\n",
      "__run_trials_test = {9: [1, 2, 3, 5, 9, 10], 16: [35, 36, 45, 46, 55], 35: [17, 18, 19, 20, 21, 22, 23]}\n"
     ]
    }
   ],
   "source": [
    "run_train, run_test = gen_test_train_dicts(__run_trials, 1/3)\n",
    "print(\"__run_trials_train =\", run_train)\n",
    "print(\"__run_trials_test =\", run_test)"
   ]
  }
 ],
 "metadata": {
  "kernelspec": {
   "display_name": "gphd",
   "language": "python",
   "name": "python3"
  },
  "language_info": {
   "codemirror_mode": {
    "name": "ipython",
    "version": 3
   },
   "file_extension": ".py",
   "mimetype": "text/x-python",
   "name": "python",
   "nbconvert_exporter": "python",
   "pygments_lexer": "ipython3",
   "version": "3.12.6"
  }
 },
 "nbformat": 4,
 "nbformat_minor": 2
}
