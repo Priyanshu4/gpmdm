{
 "cells": [
  {
   "cell_type": "code",
   "execution_count": 1,
   "metadata": {},
   "outputs": [
    {
     "name": "stderr",
     "output_type": "stream",
     "text": [
      "<frozen importlib._bootstrap>:488: RuntimeWarning: Your system is avx2 capable but pygame was not built with support for it. The performance of some of your blits could be adversely affected. Consider enabling compile time detection with environment variables like PYGAME_DETECT_AVX2=1 if you are compiling without cross compilation.\n"
     ]
    },
    {
     "name": "stdout",
     "output_type": "stream",
     "text": [
      "pygame 2.6.1 (SDL 2.30.7, Python 3.12.6)\n",
      "Hello from the pygame community. https://www.pygame.org/contribute.html\n"
     ]
    }
   ],
   "source": [
    "import numpy as np\n",
    "import pandas as pd\n",
    "import matplotlib.pyplot as plt\n",
    "import random\n",
    "import torch\n",
    "from pathlib import Path\n",
    "\n",
    "from gpdm import GPDM\n",
    "from mocap_labels import WALK_TRIALS, RUN_TRIALS"
   ]
  },
  {
   "cell_type": "code",
   "execution_count": 2,
   "metadata": {},
   "outputs": [],
   "source": [
    "walk_dfs = [trial.as_dataframe() for trial in WALK_TRIALS]\n",
    "run_dfs = [trial.as_dataframe() for trial in RUN_TRIALS]\n",
    "\n",
    "walk_arrs = [df.drop(['time', 'frame'], axis=1).to_numpy().astype(np.float32) for df in walk_dfs]\n",
    "run_arrs = [df.drop(['time', 'frame'], axis=1).to_numpy().astype(np.float32) for df in run_dfs]"
   ]
  },
  {
   "cell_type": "code",
   "execution_count": 3,
   "metadata": {},
   "outputs": [
    {
     "name": "stdout",
     "output_type": "stream",
     "text": [
      "62\n"
     ]
    }
   ],
   "source": [
    "D = walk_arrs[0].shape[1]   # Observation space dimension\n",
    "d = 3                       # Latent space dimension\n",
    "print(D)\n",
    "\n",
    "# Initial values for hyperparameters\n",
    "y_lambdas_init = np.ones(D)  # Signal standard deviation for observation GP\n",
    "y_lengthscales_init = np.ones(d)  # Lengthscales for observation GP\n",
    "y_sigma_n_init = 1e-2  # Noise standard deviation for observation GP\n",
    "\n",
    "x_lambdas_init = np.ones(d)  # Signal standard deviation for latent dynamics GP\n",
    "x_lengthscales_init = np.ones(2*d)  # Lengthscales for latent dynamics GP (since dyn_back_step = 2)\n",
    "x_sigma_n_init = 1e-2  # Noise standard deviation for latent dynamics GP\n",
    "x_lin_coeff_init = np.ones(2*d + 1)  # Linear coefficients for latent dynamics GP\n"
   ]
  },
  {
   "cell_type": "code",
   "execution_count": 4,
   "metadata": {},
   "outputs": [],
   "source": [
    "# Create GPDM object\n",
    "walk_gpdm = GPDM(D=D, d=d, \n",
    "                  dyn_target='full', dyn_back_step=2, \n",
    "                  y_lambdas_init=y_lambdas_init,\n",
    "                  y_lengthscales_init=y_lengthscales_init, \n",
    "                  y_sigma_n_init=y_sigma_n_init, \n",
    "                  x_lambdas_init=x_lambdas_init, \n",
    "                  x_lengthscales_init=x_lengthscales_init, \n",
    "                  x_sigma_n_init=x_sigma_n_init, \n",
    "                  x_lin_coeff_init=x_lin_coeff_init, \n",
    "                  flg_train_y_lambdas=True, \n",
    "                  flg_train_y_lengthscales=True, \n",
    "                  flg_train_y_sigma_n=True, \n",
    "                  flg_train_x_lambdas=True, \n",
    "                  flg_train_x_lengthscales=True, \n",
    "                  flg_train_x_sigma_n=True, \n",
    "                  flg_train_x_lin_coeff=True, \n",
    "                  sigma_n_num_Y=0., \n",
    "                  sigma_n_num_X=0., \n",
    "                  dtype=torch.float64, \n",
    "                  device=torch.device('cpu'))"
   ]
  },
  {
   "cell_type": "code",
   "execution_count": 5,
   "metadata": {},
   "outputs": [
    {
     "name": "stdout",
     "output_type": "stream",
     "text": [
      "\u001b[32m\n",
      "GPDM correctly loaded\u001b[0m\n",
      "Loaded params:\n",
      "y_log_lengthscales \t tensor([0.1781, 1.9632, 1.3877], dtype=torch.float64)\n",
      "y_log_lambdas \t tensor([ 2.3483,  1.6153, -0.4864, -0.6465, -1.0330, -0.7496, -1.6722, -1.2564,\n",
      "        -1.5538, -1.7918, -1.8713, -1.5986, -2.2164, -1.6323, -1.4036, -1.5453,\n",
      "        -1.7592, -1.8036, -1.7048, -2.0331, -0.7804, -0.0112, -0.9583, -0.2254,\n",
      "        -0.3106, -0.0673, -0.7619,  0.4151, -0.3042, -1.3889, -0.2314, -0.7990,\n",
      "        -1.3964, -0.5782, -0.9517, -0.7123,  0.2113, -0.0698, 10.0000, 10.0000,\n",
      "        -1.6640, -1.7234, -1.6099, -1.6041, -1.7114, -1.5068, -1.5196, -0.4557,\n",
      "        -1.3097, -1.5337, 10.0000, 10.0000, -1.6307, -1.5841, -1.6240, -1.6383,\n",
      "        -1.6846, -1.6174, -1.6138, -0.4557, -1.6130, -1.6277],\n",
      "       dtype=torch.float64)\n",
      "y_log_sigma_n \t tensor(-2.7327, dtype=torch.float64)\n",
      "x_log_lengthscales \t tensor([-0.0667,  1.4352,  1.3689,  0.8779,  1.4263,  2.1433],\n",
      "       dtype=torch.float64)\n",
      "x_log_lambdas \t tensor([9.0060, 7.7296, 6.4435], dtype=torch.float64)\n",
      "x_log_sigma_n \t tensor(8.4937, dtype=torch.float64)\n",
      "x_log_lin_coeff \t tensor([ 8.3072,  7.5778,  5.4488,  5.9842,  6.4662,  4.7423, -2.9603],\n",
      "       dtype=torch.float64)\n",
      "X \t tensor([[-23.1940,  -1.0564,  -3.7174],\n",
      "        [-33.6616, -15.7122, -47.7723],\n",
      "        [-33.6789, -16.2068, -47.8157],\n",
      "        ...,\n",
      "        [-58.2978,  20.8321,  64.8033],\n",
      "        [-58.3115,  20.6295,  64.6079],\n",
      "        [-58.3608,  20.4387,  64.4667]], dtype=torch.float64)\n"
     ]
    }
   ],
   "source": [
    "config = Path().cwd() / 'walk_gpdm_config.pth'\n",
    "state = Path().cwd() / 'walk_gpdm_state.pth'\n",
    "\n",
    "walk_gpdm.load(config, state, True)"
   ]
  },
  {
   "cell_type": "code",
   "execution_count": null,
   "metadata": {},
   "outputs": [],
   "source": [
    "# Get the log likelihood of the training data\n",
    "\n",
    "walk_ll = walk_gpdm.log_likelihood(walk_arrs)\n",
    "print(walk_ll)\n",
    "\n"
   ]
  },
  {
   "cell_type": "code",
   "execution_count": null,
   "metadata": {},
   "outputs": [],
   "source": [
    "# Plot the latent space\n",
    "fig = plt.figure(figsize=(10, 6))\n",
    "ax = fig.add_subplot(111, projection='3d')\n",
    "X = walk_gpdm.X.detach().numpy()\n",
    "ax.plot(X[:, 0], X[:, 1], X[:, 2])"
   ]
  }
 ],
 "metadata": {
  "kernelspec": {
   "display_name": "gphd",
   "language": "python",
   "name": "python3"
  },
  "language_info": {
   "codemirror_mode": {
    "name": "ipython",
    "version": 3
   },
   "file_extension": ".py",
   "mimetype": "text/x-python",
   "name": "python",
   "nbconvert_exporter": "python",
   "pygments_lexer": "ipython3",
   "version": "3.12.6"
  }
 },
 "nbformat": 4,
 "nbformat_minor": 2
}
