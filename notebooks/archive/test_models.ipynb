{
 "cells": [
  {
   "cell_type": "code",
   "execution_count": null,
   "metadata": {},
   "outputs": [
    {
     "name": "stderr",
     "output_type": "stream",
     "text": [
      "<frozen importlib._bootstrap>:488: RuntimeWarning: Your system is avx2 capable but pygame was not built with support for it. The performance of some of your blits could be adversely affected. Consider enabling compile time detection with environment variables like PYGAME_DETECT_AVX2=1 if you are compiling without cross compilation.\n"
     ]
    },
    {
     "name": "stdout",
     "output_type": "stream",
     "text": [
      "pygame 2.6.1 (SDL 2.30.7, Python 3.12.6)\n",
      "Hello from the pygame community. https://www.pygame.org/contribute.html\n"
     ]
    }
   ],
   "source": [
    "import notebook_setup\n",
    "import numpy as np\n",
    "import matplotlib.pyplot as plt\n",
    "from pathlib import Path\n",
    "\n",
    "from gpdm import GPDM\n",
    "from gpdm_filter import GPDM_Filter\n",
    "from gpdm_ukf import GPDM_UKF\n",
    "from gpdm_pf import GPDM_PF\n",
    "\n",
    "from dataset_utils.mocap_labels import RUN_TRIALS_TEST, WALK_TRIALS_TEST\n",
    "import dataset_utils.select_joints as select_joints"
   ]
  },
  {
   "cell_type": "code",
   "execution_count": 2,
   "metadata": {},
   "outputs": [
    {
     "name": "stdout",
     "output_type": "stream",
     "text": [
      "Number of DOFs: 35\n"
     ]
    }
   ],
   "source": [
    "TEST_TRIALS = RUN_TRIALS_TEST + WALK_TRIALS_TEST\n",
    "TRUTH_LABELS = [1] * len(RUN_TRIALS_TEST) + [0] * len(WALK_TRIALS_TEST)\n",
    "\n",
    "reduced_columns = TEST_TRIALS[0].get_columns_for_joints(select_joints.WALKING_SIMPLIFIED_JOINTS)\n",
    "DOFs = len(reduced_columns)\n",
    "print(f\"Number of DOFs: {DOFs}\")\n"
   ]
  },
  {
   "cell_type": "code",
   "execution_count": 3,
   "metadata": {},
   "outputs": [],
   "source": [
    "d = 3 # latent space dimension\n",
    "DOFs = len(reduced_columns)  # number of degrees of freedom\n",
    "\n",
    "dyn_back_step = 1 # Number of time steps to look back in the dynamics GP\n",
    "\n",
    "# Initial values for hyperparameters\n",
    "y_lambdas_init = np.ones(DOFs)  # Signal standard deviation for observation GP\n",
    "y_lengthscales_init = np.ones(d)  # Lengthscales for observation GP\n",
    "y_sigma_n_init = 1e-2  # Noise standard deviation for observation GP\n",
    "\n",
    "x_lambdas_init = np.ones(d)  # Signal standard deviation for latent dynamics GP\n",
    "x_lengthscales_init = np.ones(dyn_back_step*d)  # Lengthscales for latent dynamics GP\n",
    "x_sigma_n_init = 1e-2  # Noise standard deviation for latent dynamics GP\n",
    "x_lin_coeff_init = np.ones(dyn_back_step*d + 1)  # Linear coefficients for latent dynamics GP"
   ]
  },
  {
   "cell_type": "code",
   "execution_count": 4,
   "metadata": {},
   "outputs": [
    {
     "name": "stdout",
     "output_type": "stream",
     "text": [
      "\u001b[32m\n",
      "GPDM correctly loaded\u001b[0m\n"
     ]
    }
   ],
   "source": [
    "model_dir = Path().cwd() / 'models' / 'epochs_1k'\n",
    "walk_config = model_dir / 'walk_gpdm_config.pth'\n",
    "walk_state = model_dir / 'walk_gpdm_state.pth'\n",
    "\n",
    "walk_gpdm =  GPDM(\n",
    "        D=DOFs,\n",
    "        d=d,\n",
    "        dyn_target='full',\n",
    "        dyn_back_step=dyn_back_step,\n",
    "        y_lambdas_init=y_lambdas_init,\n",
    "        y_lengthscales_init=y_lengthscales_init,\n",
    "        y_sigma_n_init=y_sigma_n_init,\n",
    "        x_lambdas_init=x_lambdas_init,\n",
    "        x_lengthscales_init=x_lengthscales_init,\n",
    "        x_sigma_n_init=x_sigma_n_init,\n",
    "        x_lin_coeff_init=x_lin_coeff_init\n",
    "    )\n",
    "walk_gpdm.load(walk_config, walk_state, False)\n",
    "#walk_gpdm_filter = GPDM_UKF(walk_gpdm)\n",
    "#walk_gpdm_filter = GPDM_Filter(walk_gpdm)\n",
    "walk_gpdm_filter = GPDM_PF(walk_gpdm, num_particles=100)\n",
    "\n"
   ]
  },
  {
   "cell_type": "code",
   "execution_count": 5,
   "metadata": {},
   "outputs": [
    {
     "name": "stdout",
     "output_type": "stream",
     "text": [
      "\u001b[32m\n",
      "GPDM correctly loaded\u001b[0m\n"
     ]
    }
   ],
   "source": [
    "run_config = model_dir / 'run_gpdm_config.pth'\n",
    "run_state = model_dir / 'run_gpdm_state.pth'\n",
    "\n",
    "run_gpdm =  GPDM(\n",
    "        D=DOFs,\n",
    "        d=d,\n",
    "        dyn_target='full',\n",
    "        dyn_back_step=dyn_back_step,\n",
    "        y_lambdas_init=y_lambdas_init,\n",
    "        y_lengthscales_init=y_lengthscales_init,\n",
    "        y_sigma_n_init=y_sigma_n_init,\n",
    "        x_lambdas_init=x_lambdas_init,\n",
    "        x_lengthscales_init=x_lengthscales_init,\n",
    "        x_sigma_n_init=x_sigma_n_init,\n",
    "        x_lin_coeff_init=x_lin_coeff_init\n",
    "    )\n",
    "\n",
    "run_gpdm.load(run_config, run_state, False)\n",
    "#run_gpdm_filter = GPDM_UKF(run_gpdm)\n",
    "#run_gpdm_filter = GPDM_Filter(run_gpdm)\n",
    "run_gpdm_filter = GPDM_PF(run_gpdm, num_particles=100)\n",
    "\n"
   ]
  },
  {
   "cell_type": "code",
   "execution_count": null,
   "metadata": {},
   "outputs": [
    {
     "ename": "AttributeError",
     "evalue": "'GPDM_PF' object has no attribute 'mu'",
     "output_type": "error",
     "traceback": [
      "\u001b[1;31m---------------------------------------------------------------------------\u001b[0m",
      "\u001b[1;31mAttributeError\u001b[0m                            Traceback (most recent call last)",
      "Cell \u001b[1;32mIn[6], line 21\u001b[0m\n\u001b[0;32m     19\u001b[0m \u001b[38;5;28;01mif\u001b[39;00m walk_ll \u001b[38;5;129;01mis\u001b[39;00m \u001b[38;5;28;01mNone\u001b[39;00m:\n\u001b[0;32m     20\u001b[0m     walk_ll \u001b[38;5;241m=\u001b[39m walk_gpdm_filter\u001b[38;5;241m.\u001b[39mlog_likelihood()\n\u001b[1;32m---> 21\u001b[0m     walk_latents\u001b[38;5;241m.\u001b[39mappend(\u001b[43mwalk_gpdm_filter\u001b[49m\u001b[38;5;241;43m.\u001b[39;49m\u001b[43mmu\u001b[49m)\n\u001b[0;32m     22\u001b[0m run_ll \u001b[38;5;241m=\u001b[39m run_gpdm_filter\u001b[38;5;241m.\u001b[39mupdate(data_point)\n\u001b[0;32m     23\u001b[0m \u001b[38;5;28;01mif\u001b[39;00m run_ll \u001b[38;5;129;01mis\u001b[39;00m \u001b[38;5;28;01mNone\u001b[39;00m:\n",
      "\u001b[1;31mAttributeError\u001b[0m: 'GPDM_PF' object has no attribute 'mu'"
     ]
    }
   ],
   "source": [
    "# Iterate over the test trials and classify them\n",
    "\n",
    "for i, trial in enumerate(TEST_TRIALS):\n",
    "    label = TRUTH_LABELS[i]\n",
    "\n",
    "    # Get the data in an array format\n",
    "    data_arr = trial.as_dataframe()[reduced_columns].to_numpy(dtype=np.float32)[::5, :]\n",
    "\n",
    "    walk_gpdm_filter.reset()\n",
    "    run_gpdm_filter.reset()\n",
    "\n",
    "    walk_latents = []\n",
    "    run_latents = []\n",
    "\n",
    "    # Run each data point through the GPDM filter\n",
    "    for timestep in range(data_arr.shape[0]):\n",
    "        data_point = data_arr[timestep, :]\n",
    "        walk_ll = walk_gpdm_filter.update(data_point)\n",
    "        if walk_ll is None:\n",
    "            walk_ll = walk_gpdm_filter.log_likelihood()\n",
    "            walk_ig = walk_gpdm_filter.expected_information_gain()\n",
    "            walk_latents.append(walk_gpdm_filter.mu)\n",
    "        run_ll = run_gpdm_filter.update(data_point)\n",
    "        if run_ll is None:\n",
    "            run_ll = run_gpdm_filter.log_likelihood()\n",
    "            run_ig = run_gpdm_filter.expected_information_gain()\n",
    "            run_latents.append(run_gpdm_filter.mu)\n",
    "\n",
    "\n",
    "    # Classify the trial using the final log likelihoods\n",
    "    if walk_ll > run_ll:\n",
    "        predicted_label = 0\n",
    "    else:\n",
    "        predicted_label = 1\n",
    "\n",
    "    print(f\"Trial {i}: True label: {label}, Predicted label: {predicted_label}, Walk LL: {walk_ll}, Run LL: {run_ll}\")\n",
    "    print(f\"Walk IG: {walk_ig}, Run IG: {run_ig}\")\n",
    "    print(f\"Walk residual: {np.linalg.norm(walk_gpdm_filter.residual)}, Run residual: {np.linalg.norm(run_gpdm_filter.residual)}\")\n",
    "\n",
    "    # Plot the latent space\n",
    "    walk_latents = np.array(walk_latents)\n",
    "    run_latents = np.array(run_latents)\n",
    "\n",
    "    # threed latent space\n",
    "    fig = plt.figure()\n",
    "    ax = fig.add_subplot(111, projection='3d')\n",
    "    ax.scatter(walk_latents[:, 0], walk_latents[:, 1], walk_latents[:, 2], c='r', marker='o', label='walk')\n",
    "\n",
    "    ax.scatter(run_latents[:, 0], run_latents[:, 1], run_latents[:, 2], c='b', marker='o', label='run')\n",
    "    plt.legend()\n",
    "    plt.show()"
   ]
  }
 ],
 "metadata": {
  "kernelspec": {
   "display_name": "gphd",
   "language": "python",
   "name": "python3"
  },
  "language_info": {
   "codemirror_mode": {
    "name": "ipython",
    "version": 3
   },
   "file_extension": ".py",
   "mimetype": "text/x-python",
   "name": "python",
   "nbconvert_exporter": "python",
   "pygments_lexer": "ipython3",
   "version": "3.12.6"
  }
 },
 "nbformat": 4,
 "nbformat_minor": 2
}
