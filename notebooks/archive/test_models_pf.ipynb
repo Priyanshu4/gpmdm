{
 "cells": [
  {
   "cell_type": "code",
   "execution_count": null,
   "metadata": {},
   "outputs": [
    {
     "name": "stderr",
     "output_type": "stream",
     "text": [
      "<frozen importlib._bootstrap>:488: RuntimeWarning: Your system is avx2 capable but pygame was not built with support for it. The performance of some of your blits could be adversely affected. Consider enabling compile time detection with environment variables like PYGAME_DETECT_AVX2=1 if you are compiling without cross compilation.\n"
     ]
    },
    {
     "name": "stdout",
     "output_type": "stream",
     "text": [
      "pygame 2.6.1 (SDL 2.30.7, Python 3.12.6)\n",
      "Hello from the pygame community. https://www.pygame.org/contribute.html\n"
     ]
    }
   ],
   "source": [
    "import notebook_setup\n",
    "import numpy as np\n",
    "import matplotlib.pyplot as plt\n",
    "from pathlib import Path\n",
    "\n",
    "from gpdm import GPDM\n",
    "from gpdm_pf import GPDM_PF\n",
    "from filterbank import FilterBank\n",
    "\n",
    "from dataset_utils.mocap_labels import RUN_TRIALS_TEST, WALK_TRIALS_TEST\n",
    "import dataset_utils.select_joints as select_joints"
   ]
  },
  {
   "cell_type": "code",
   "execution_count": 2,
   "metadata": {},
   "outputs": [
    {
     "name": "stdout",
     "output_type": "stream",
     "text": [
      "Number of DOFs: 35\n"
     ]
    }
   ],
   "source": [
    "TEST_TRIALS = RUN_TRIALS_TEST + WALK_TRIALS_TEST\n",
    "TRUTH_LABELS = [1] * len(RUN_TRIALS_TEST) + [0] * len(WALK_TRIALS_TEST)\n",
    "\n",
    "reduced_columns = TEST_TRIALS[0].get_columns_for_joints(select_joints.WALKING_SIMPLIFIED_JOINTS)\n",
    "DOFs = len(reduced_columns)\n",
    "print(f\"Number of DOFs: {DOFs}\")\n"
   ]
  },
  {
   "cell_type": "code",
   "execution_count": 3,
   "metadata": {},
   "outputs": [],
   "source": [
    "d = 3 # latent space dimension\n",
    "DOFs = len(reduced_columns)  # number of degrees of freedom\n",
    "\n",
    "dyn_back_step = 1 # Number of time steps to look back in the dynamics GP\n",
    "\n",
    "# Initial values for hyperparameters\n",
    "y_lambdas_init = np.ones(DOFs)  # Signal standard deviation for observation GP\n",
    "y_lengthscales_init = np.ones(d)  # Lengthscales for observation GP\n",
    "y_sigma_n_init = 1e-2  # Noise standard deviation for observation GP\n",
    "\n",
    "x_lambdas_init = np.ones(d)  # Signal standard deviation for latent dynamics GP\n",
    "x_lengthscales_init = np.ones(dyn_back_step*d)  # Lengthscales for latent dynamics GP\n",
    "x_sigma_n_init = 1e-2  # Noise standard deviation for latent dynamics GP\n",
    "x_lin_coeff_init = np.ones(dyn_back_step*d + 1)  # Linear coefficients for latent dynamics GP"
   ]
  },
  {
   "cell_type": "code",
   "execution_count": 4,
   "metadata": {},
   "outputs": [
    {
     "name": "stdout",
     "output_type": "stream",
     "text": [
      "\u001b[32m\n",
      "GPDM correctly loaded\u001b[0m\n"
     ]
    }
   ],
   "source": [
    "model_dir = Path().cwd() / 'models' / 'epochs_1k'\n",
    "walk_config = model_dir / 'walk_gpdm_config.pth'\n",
    "walk_state = model_dir / 'walk_gpdm_state.pth'\n",
    "\n",
    "walk_gpdm =  GPDM(\n",
    "        D=DOFs,\n",
    "        d=d,\n",
    "        dyn_target='full',\n",
    "        dyn_back_step=dyn_back_step,\n",
    "        y_lambdas_init=y_lambdas_init,\n",
    "        y_lengthscales_init=y_lengthscales_init,\n",
    "        y_sigma_n_init=y_sigma_n_init,\n",
    "        x_lambdas_init=x_lambdas_init,\n",
    "        x_lengthscales_init=x_lengthscales_init,\n",
    "        x_sigma_n_init=x_sigma_n_init,\n",
    "        x_lin_coeff_init=x_lin_coeff_init\n",
    "    )\n",
    "walk_gpdm.load(walk_config, walk_state, False)\n",
    "#walk_gpdm_filter = GPDM_UKF(walk_gpdm)\n",
    "#walk_gpdm_filter = GPDM_Filter(walk_gpdm)\n",
    "walk_gpdm_filter = GPDM_PF(walk_gpdm, num_particles=100)\n",
    "\n"
   ]
  },
  {
   "cell_type": "code",
   "execution_count": 5,
   "metadata": {},
   "outputs": [
    {
     "name": "stdout",
     "output_type": "stream",
     "text": [
      "\u001b[32m\n",
      "GPDM correctly loaded\u001b[0m\n"
     ]
    }
   ],
   "source": [
    "run_config = model_dir / 'run_gpdm_config.pth'\n",
    "run_state = model_dir / 'run_gpdm_state.pth'\n",
    "\n",
    "run_gpdm =  GPDM(\n",
    "        D=DOFs,\n",
    "        d=d,\n",
    "        dyn_target='full',\n",
    "        dyn_back_step=dyn_back_step,\n",
    "        y_lambdas_init=y_lambdas_init,\n",
    "        y_lengthscales_init=y_lengthscales_init,\n",
    "        y_sigma_n_init=y_sigma_n_init,\n",
    "        x_lambdas_init=x_lambdas_init,\n",
    "        x_lengthscales_init=x_lengthscales_init,\n",
    "        x_sigma_n_init=x_sigma_n_init,\n",
    "        x_lin_coeff_init=x_lin_coeff_init\n",
    "    )\n",
    "\n",
    "run_gpdm.load(run_config, run_state, False)\n",
    "#run_gpdm_filter = GPDM_UKF(run_gpdm)\n",
    "#run_gpdm_filter = GPDM_Filter(run_gpdm)\n",
    "run_gpdm_filter = GPDM_PF(run_gpdm, num_particles=100)\n",
    "\n"
   ]
  },
  {
   "cell_type": "code",
   "execution_count": 6,
   "metadata": {},
   "outputs": [],
   "source": [
    "# Make a filter bank\n",
    "filter_bank = FilterBank([walk_gpdm_filter, run_gpdm_filter], window_size=10)\n"
   ]
  },
  {
   "cell_type": "code",
   "execution_count": 7,
   "metadata": {},
   "outputs": [
    {
     "name": "stdout",
     "output_type": "stream",
     "text": [
      "Trial 0, Accuracy: 0.9666666666666667\n",
      "Trial 0 Final, True label: 1, Predicted label: 1, Walk LL: -6.587240794543334, Run LL: 53.50625461487343\n",
      "Trial 1, Accuracy: 1.0\n",
      "Trial 1 Final, True label: 1, Predicted label: 1, Walk LL: -24.25125457137442, Run LL: 29.299724731379996\n",
      "Trial 2, Accuracy: 1.0\n",
      "Trial 2 Final, True label: 1, Predicted label: 1, Walk LL: -33.962650399433215, Run LL: 90.04984730096737\n",
      "Trial 3, Accuracy: 1.0\n",
      "Trial 3 Final, True label: 1, Predicted label: 1, Walk LL: -46.30429578648799, Run LL: 39.85175702859815\n",
      "Trial 4, Accuracy: 1.0\n",
      "Trial 4 Final, True label: 1, Predicted label: 1, Walk LL: -61.68530613906116, Run LL: 8.50847295142932\n",
      "Trial 5, Accuracy: 1.0\n",
      "Trial 5 Final, True label: 1, Predicted label: 1, Walk LL: -43.95723497890036, Run LL: 2.3045191406825376\n",
      "Trial 6, Accuracy: 0.48484848484848486\n",
      "Trial 6 Final, True label: 1, Predicted label: 0, Walk LL: 17.420386958785404, Run LL: 10.082493496068288\n",
      "Trial 7, Accuracy: 1.0\n",
      "Trial 7 Final, True label: 1, Predicted label: 1, Walk LL: 36.79503835853111, Run LL: 83.17394352709947\n",
      "Trial 8, Accuracy: 0.9629629629629629\n",
      "Trial 8 Final, True label: 1, Predicted label: 1, Walk LL: 24.3278661499654, Run LL: 23.624481858638568\n",
      "Trial 9, Accuracy: 0.9285714285714286\n",
      "Trial 9 Final, True label: 1, Predicted label: 1, Walk LL: 15.921712202845843, Run LL: 8.364609075966438\n",
      "Trial 10, Accuracy: 0.918918918918919\n",
      "Trial 10 Final, True label: 1, Predicted label: 1, Walk LL: 2.201435710242764, Run LL: 44.75371775430732\n",
      "Trial 11, Accuracy: 0.9411764705882353\n",
      "Trial 11 Final, True label: 1, Predicted label: 1, Walk LL: 7.701462654853834, Run LL: 17.114499162046187\n",
      "Trial 12, Accuracy: 1.0\n",
      "Trial 12 Final, True label: 1, Predicted label: 1, Walk LL: 15.713911159886008, Run LL: 26.760717022303723\n",
      "Trial 13, Accuracy: 1.0\n",
      "Trial 13 Final, True label: 1, Predicted label: 1, Walk LL: 23.363406892019196, Run LL: 82.76067061550178\n",
      "Trial 14, Accuracy: 0.9696969696969697\n",
      "Trial 14 Final, True label: 1, Predicted label: 1, Walk LL: 11.815995488612229, Run LL: 7.197448379125782\n",
      "Trial 15, Accuracy: 0.8787878787878788\n",
      "Trial 15 Final, True label: 1, Predicted label: 1, Walk LL: -7.123568433779342, Run LL: 15.798053220801274\n",
      "Trial 16, Accuracy: 1.0\n",
      "Trial 16 Final, True label: 1, Predicted label: 1, Walk LL: 12.341589256881766, Run LL: 25.321482282805533\n",
      "Trial 17, Accuracy: 1.0\n",
      "Trial 17 Final, True label: 1, Predicted label: 1, Walk LL: 21.208033094949286, Run LL: 71.1827560403437\n",
      "Trial 18, Accuracy: 0.782608695652174\n",
      "Trial 18 Final, True label: 0, Predicted label: 0, Walk LL: 66.18720451708735, Run LL: 33.21499201812327\n",
      "Trial 19, Accuracy: 0.7166666666666667\n",
      "Trial 19 Final, True label: 0, Predicted label: 0, Walk LL: 50.406014737435946, Run LL: 49.89069257864348\n",
      "Trial 20, Accuracy: 1.0\n",
      "Trial 20 Final, True label: 0, Predicted label: 0, Walk LL: 27.69040798476329, Run LL: -0.253221623730858\n",
      "Trial 21, Accuracy: 0.0\n",
      "Trial 21 Final, True label: 0, Predicted label: 1, Walk LL: 40.90032745174777, Run LL: 43.0580146683254\n",
      "Trial 22, Accuracy: 1.0\n",
      "Trial 22 Final, True label: 0, Predicted label: 0, Walk LL: 95.54938357103933, Run LL: 29.395665285784972\n",
      "Trial 23, Accuracy: 1.0\n",
      "Trial 23 Final, True label: 0, Predicted label: 0, Walk LL: 99.20605329253377, Run LL: 35.803527007829715\n",
      "Trial 24, Accuracy: 1.0\n",
      "Trial 24 Final, True label: 0, Predicted label: 0, Walk LL: 87.27718320289682, Run LL: 11.750132159062012\n",
      "Trial 25, Accuracy: 1.0\n",
      "Trial 25 Final, True label: 0, Predicted label: 0, Walk LL: 82.58308164279019, Run LL: 34.381629915353486\n",
      "Trial 26, Accuracy: 1.0\n",
      "Trial 26 Final, True label: 0, Predicted label: 0, Walk LL: 87.2863373258867, Run LL: 49.66196077972327\n",
      "Trial 27, Accuracy: 1.0\n",
      "Trial 27 Final, True label: 0, Predicted label: 0, Walk LL: 95.49630381221067, Run LL: 58.147294166755074\n",
      "Trial 28, Accuracy: 1.0\n",
      "Trial 28 Final, True label: 0, Predicted label: 0, Walk LL: 80.8399405206335, Run LL: 9.495223277821431\n",
      "Trial 29, Accuracy: 0.9622641509433962\n",
      "Trial 29 Final, True label: 0, Predicted label: 0, Walk LL: 80.04181980492689, Run LL: 32.568250109234256\n",
      "Trial 30, Accuracy: 1.0\n",
      "Trial 30 Final, True label: 0, Predicted label: 0, Walk LL: 98.33896183463591, Run LL: 49.495039447739984\n",
      "Trial 31, Accuracy: 1.0\n",
      "Trial 31 Final, True label: 0, Predicted label: 0, Walk LL: 97.05608587571473, Run LL: 28.7860136027481\n",
      "Trial 32, Accuracy: 1.0\n",
      "Trial 32 Final, True label: 0, Predicted label: 0, Walk LL: 98.0868920572862, Run LL: 43.448266763810324\n",
      "Trial 33, Accuracy: 1.0\n",
      "Trial 33 Final, True label: 0, Predicted label: 0, Walk LL: 92.11788489040887, Run LL: 38.10328565872945\n",
      "Trial 34, Accuracy: 1.0\n",
      "Trial 34 Final, True label: 0, Predicted label: 0, Walk LL: 97.25450220277267, Run LL: 59.412838325147504\n",
      "Trial 35, Accuracy: 1.0\n",
      "Trial 35 Final, True label: 0, Predicted label: 0, Walk LL: 84.82113760390605, Run LL: 50.19628777326406\n",
      "Trial 36, Accuracy: 0.7428571428571429\n",
      "Trial 36 Final, True label: 0, Predicted label: 0, Walk LL: 31.968154318948372, Run LL: 16.933089895093325\n",
      "Trial 37, Accuracy: 0.2740740740740741\n",
      "Trial 37 Final, True label: 0, Predicted label: 1, Walk LL: -7.946429924287058, Run LL: -12.806594454398086\n",
      "Trial 38, Accuracy: 0.4247787610619469\n",
      "Trial 38 Final, True label: 0, Predicted label: 1, Walk LL: 25.010069561455282, Run LL: 18.4713069501653\n"
     ]
    }
   ],
   "source": [
    "# Iterate over the test trials and classify them\n",
    "\n",
    "for i, trial in enumerate(TEST_TRIALS):\n",
    "    label = TRUTH_LABELS[i]\n",
    "\n",
    "    # Get the data in an array format\n",
    "    data_arr = trial.as_dataframe()[reduced_columns].to_numpy(dtype=np.float32)[::5, :]\n",
    "\n",
    "    filter_bank.reset()\n",
    "    correct = 0\n",
    "    total = 0\n",
    "\n",
    "    # Run the filter bank on the trial\n",
    "    for data in data_arr:\n",
    "        filter_bank.update(data)\n",
    "        predicted_label = filter_bank.get_most_likely()\n",
    "        latest_lls = filter_bank.get_latest_log_likelihood()\n",
    "        walk_ll = latest_lls[0]\n",
    "        run_ll = latest_lls[1]\n",
    "\n",
    "        if predicted_label == label:\n",
    "            correct += 1\n",
    "        \n",
    "        total += 1\n",
    "\n",
    "    accuracy = correct / total\n",
    "\n",
    "    print(f\"Trial {i}, Accuracy: {accuracy}\")\n",
    "    print(f\"Trial {i} Final, True label: {label}, Predicted label: {predicted_label}, Walk LL: {walk_ll}, Run LL: {run_ll}\")\n"
   ]
  }
 ],
 "metadata": {
  "kernelspec": {
   "display_name": "gphd",
   "language": "python",
   "name": "python3"
  },
  "language_info": {
   "codemirror_mode": {
    "name": "ipython",
    "version": 3
   },
   "file_extension": ".py",
   "mimetype": "text/x-python",
   "name": "python",
   "nbconvert_exporter": "python",
   "pygments_lexer": "ipython3",
   "version": "3.12.6"
  }
 },
 "nbformat": 4,
 "nbformat_minor": 2
}
