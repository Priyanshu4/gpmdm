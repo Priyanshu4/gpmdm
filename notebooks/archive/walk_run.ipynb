{
 "cells": [
  {
   "cell_type": "code",
   "execution_count": null,
   "metadata": {},
   "outputs": [],
   "source": [
    "import nb_setup\n",
    "import numpy as np\n",
    "import pandas as pd\n",
    "import matplotlib.pyplot as plt\n",
    "import random"
   ]
  },
  {
   "cell_type": "code",
   "execution_count": null,
   "metadata": {},
   "outputs": [],
   "source": [
    "from dataset_utils.mocap_labels import WALK_TRIALS, RUN_TRIALS, __walk_trials, __run_trials\n",
    "\n",
    "print(f\"Number of walk trials: {len(WALK_TRIALS)}\")\n",
    "print(f\"Number of run trials: {len(RUN_TRIALS)}\")"
   ]
  },
  {
   "cell_type": "code",
   "execution_count": null,
   "metadata": {},
   "outputs": [],
   "source": [
    "# make a bar chart with subjects on x axis and number of trials on y axis\n",
    "# subjects are keys in the __walk_trials and __run_trials dictionaries\n",
    "# number of trials is the length of the list of trials for each subject\n",
    "\n",
    "walk_subjects = list(__walk_trials.keys())\n",
    "run_subjects = list(__run_trials.keys())\n",
    "all_subjects = sorted(list(set(walk_subjects + run_subjects)))\n",
    "\n",
    "walk_trials = [len(__walk_trials.get(subject, [])) for subject in all_subjects]\n",
    "run_trials = [len(__run_trials.get(subject, [])) for subject in all_subjects]\n",
    "\n",
    "bar_width = 0.35\n",
    "index = np.arange(len(all_subjects))\n",
    "plt.bar(index, walk_trials, bar_width, label=\"Walk\")\n",
    "plt.bar(index, run_trials, bar_width, bottom=walk_trials, label=\"Run\")\n",
    "plt.xticks(index, all_subjects)\n",
    "plt.xlabel(\"Subjects\")\n",
    "plt.ylabel(\"Number of Trials\")\n",
    "plt.title(\"Number of Trials per Subject\")\n",
    "plt.legend()"
   ]
  },
  {
   "cell_type": "code",
   "execution_count": null,
   "metadata": {},
   "outputs": [],
   "source": [
    "\n",
    "\n",
    "# Let's make histograms of the duration of each trial\n",
    "walk_trial_lengths = [trial.n_frames / trial.fps for trial in WALK_TRIALS]\n",
    "run_trial_lengths = [trial.n_frames / trial.fps for trial in RUN_TRIALS]\n",
    "\n",
    "# Calculate the combined range of both datasets\n",
    "min_length = min(min(walk_trial_lengths), min(run_trial_lengths))\n",
    "max_length = max(max(walk_trial_lengths), max(run_trial_lengths))\n",
    "\n",
    "# Define the bins using the combined range\n",
    "bins = np.linspace(min_length, max_length, 30)\n",
    "\n",
    "plt.hist(walk_trial_lengths, bins=bins, alpha=0.5, label='Walking Trial Lengths', color='blue')\n",
    "plt.hist(run_trial_lengths, bins=bins, alpha=0.5, label='Running Trial Lengths', color='red')\n",
    "plt.title('Histogram of Trial Lengths')\n",
    "plt.xlabel('Duration (s)')\n",
    "plt.ylabel('Count')\n",
    "plt.legend()\n"
   ]
  },
  {
   "cell_type": "code",
   "execution_count": null,
   "metadata": {},
   "outputs": [],
   "source": [
    "# Let's convert all trials to dataframes\n",
    "\n",
    "walk_dfs = [trial.as_dataframe() for trial in WALK_TRIALS]\n",
    "run_dfs = [trial.as_dataframe() for trial in RUN_TRIALS]"
   ]
  },
  {
   "cell_type": "code",
   "execution_count": null,
   "metadata": {},
   "outputs": [],
   "source": [
    "# Let's see all the columns in the dataframes\n",
    "print(walk_dfs[0].columns)"
   ]
  },
  {
   "cell_type": "code",
   "execution_count": null,
   "metadata": {},
   "outputs": [],
   "source": [
    "# Next, let's pick one body part: the left tibia, which is the shin bone\n",
    "# We will plot the position of the tibia over time for trial\n",
    "# We will plot walking and running on seperate plots, picking the 5 random trials of each\n",
    "\n",
    "body_part_name = \"Left Tibia\"\n",
    "body_part_key = 'ltibia_rx'\n",
    "n_trials_to_plot = 5\n",
    "\n",
    "random.seed(0)\n",
    "random_walk_dfs = random.sample(walk_dfs, n_trials_to_plot)\n",
    "random_run_dfs = random.sample(run_dfs, n_trials_to_plot)\n",
    "\n",
    "fig, axs = plt.subplots(2, 1, figsize=(10, 8))\n",
    "\n",
    "# Plot for walking trials\n",
    "axs[0].set_title(f'{body_part_name} position over {n_trials_to_plot} Walking Trials')\n",
    "axs[0].set_xlabel('Time (s)')\n",
    "axs[0].set_ylabel('Position (degrees)')\n",
    "for df in random_walk_dfs:\n",
    "    axs[0].plot(df['time'], df[body_part_key])\n",
    "\n",
    "# Plot for running trials\n",
    "axs[1].set_title(f'{body_part_name} position over {n_trials_to_plot} Running Trials')\n",
    "axs[1].set_xlabel('Time (s)')\n",
    "axs[1].set_ylabel('Position (degrees)')\n",
    "for df in random_run_dfs:\n",
    "    axs[1].plot(df['time'], df[body_part_key])\n",
    "\n",
    "# Ensure both plots use the same time scale\n",
    "max_time = max(df['time'].max() for df in random_walk_dfs + random_run_dfs)\n",
    "axs[0].set_xlim(0, max_time)\n",
    "axs[1].set_xlim(0, max_time)\n",
    "\n",
    "plt.tight_layout()\n",
    "plt.show()\n"
   ]
  },
  {
   "cell_type": "code",
   "execution_count": null,
   "metadata": {},
   "outputs": [],
   "source": [
    "# Repeat the above for lower back straightness\n",
    "\n",
    "body_part_name = \"Lowerback \\\"Straigthness\\\"\"\n",
    "body_part_key = 'lowerback_rx'\n",
    "\n",
    "fig, axs = plt.subplots(2, 1, figsize=(10, 8))\n",
    "\n",
    "# Plot for walking trials\n",
    "axs[0].set_title(f'{body_part_name} position over {n_trials_to_plot} Walking Trials')\n",
    "axs[0].set_xlabel('Time (s)')\n",
    "axs[0].set_ylabel('Position (degrees)')\n",
    "for df in random_walk_dfs:\n",
    "    axs[0].plot(df['time'], df[body_part_key])\n",
    "\n",
    "# Plot for running trials\n",
    "axs[1].set_title(f'{body_part_name} position over {n_trials_to_plot} Running Trials')\n",
    "axs[1].set_xlabel('Time (s)')\n",
    "axs[1].set_ylabel('Position (degrees)')\n",
    "for df in random_run_dfs:\n",
    "    axs[1].plot(df['time'], df[body_part_key])\n",
    "\n",
    "# Ensure both plots use the same time scale\n",
    "max_time = max(df['time'].max() for df in random_walk_dfs + random_run_dfs)\n",
    "axs[0].set_xlim(0, max_time)\n",
    "axs[1].set_xlim(0, max_time)\n",
    "\n",
    "plt.tight_layout()\n",
    "plt.show()"
   ]
  },
  {
   "cell_type": "code",
   "execution_count": null,
   "metadata": {},
   "outputs": [],
   "source": []
  }
 ],
 "metadata": {
  "kernelspec": {
   "display_name": "gphd",
   "language": "python",
   "name": "python3"
  },
  "language_info": {
   "codemirror_mode": {
    "name": "ipython",
    "version": 3
   },
   "file_extension": ".py",
   "mimetype": "text/x-python",
   "name": "python",
   "nbconvert_exporter": "python",
   "pygments_lexer": "ipython3",
   "version": "3.12.6"
  }
 },
 "nbformat": 4,
 "nbformat_minor": 2
}
