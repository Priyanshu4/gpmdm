{
 "cells": [
  {
   "cell_type": "code",
   "execution_count": 1,
   "metadata": {},
   "outputs": [],
   "source": [
    "import notebook_setup\n",
    "from notebook_setup import MODELS_DIR\n",
    "\n",
    "import numpy as np\n",
    "import pandas as pd\n",
    "import torch \n",
    "\n",
    "from gpmdm import GPMDM, GPMDM_PF\n",
    "from dataset_utils.mocap_labels import WALK_TRIALS_TRAIN, WALK_TRIALS_TEST, RUN_TRIALS_TRAIN, RUN_TRIALS_TEST\n",
    "import dataset_utils.select_joints as select_joints"
   ]
  },
  {
   "cell_type": "code",
   "execution_count": 2,
   "metadata": {},
   "outputs": [
    {
     "name": "stdout",
     "output_type": "stream",
     "text": [
      "\u001b[32m\n",
      "Model and hyperparameters correctly loaded\u001b[0m\n"
     ]
    }
   ],
   "source": [
    "model_path = MODELS_DIR / 'gpmdm' / 'gpmdm_2024_12_04.pth'\n",
    "gpdm = GPMDM.load(model_path)"
   ]
  },
  {
   "cell_type": "code",
   "execution_count": 3,
   "metadata": {},
   "outputs": [
    {
     "name": "stdout",
     "output_type": "stream",
     "text": [
      "Number of DOFs: 35\n"
     ]
    }
   ],
   "source": [
    "TEST_TRIALS = RUN_TRIALS_TEST + WALK_TRIALS_TEST\n",
    "TRUTH_LABELS = [1] * len(RUN_TRIALS_TEST) + [0] * len(WALK_TRIALS_TEST)\n",
    "\n",
    "reduced_columns = TEST_TRIALS[0].get_columns_for_joints(select_joints.WALKING_SIMPLIFIED_JOINTS)\n",
    "DOFs = len(reduced_columns)\n",
    "print(f\"Number of DOFs: {DOFs}\")"
   ]
  },
  {
   "cell_type": "code",
   "execution_count": 4,
   "metadata": {},
   "outputs": [],
   "source": [
    "# Markov Transition Matrix between classes\n",
    "markov_transition_matrix = torch.tensor(\n",
    "    [[0.9, 0.1], \n",
    "     [0.1, 0.9]])\n",
    "\n",
    "# Build a gpdm_pf model\n",
    "gpdm_pf = GPMDM_PF(gpdm, \n",
    "                   markov_switching_model=markov_transition_matrix,\n",
    "                   num_particles=100,\n",
    "                   n_fresh_particles_at_each_timestep=99)\n",
    "   "
   ]
  },
  {
   "cell_type": "code",
   "execution_count": 5,
   "metadata": {},
   "outputs": [
    {
     "name": "stdout",
     "output_type": "stream",
     "text": [
      "Trial 0, Accuracy: 1.0\n",
      "Trial 0 Final, True label: 1, Predicted label: 1, Walk LL: 0.0, Run LL: 1.0\n",
      "Trial 1, Accuracy: 1.0\n",
      "Trial 1 Final, True label: 1, Predicted label: 1, Walk LL: 0.0, Run LL: 1.0\n",
      "Trial 2, Accuracy: 1.0\n",
      "Trial 2 Final, True label: 1, Predicted label: 1, Walk LL: 0.0, Run LL: 1.0\n",
      "Trial 3, Accuracy: 1.0\n",
      "Trial 3 Final, True label: 1, Predicted label: 1, Walk LL: 0.0, Run LL: 1.0\n",
      "Trial 4, Accuracy: 1.0\n",
      "Trial 4 Final, True label: 1, Predicted label: 1, Walk LL: 0.0, Run LL: 1.0\n",
      "Trial 5, Accuracy: 1.0\n",
      "Trial 5 Final, True label: 1, Predicted label: 1, Walk LL: 0.0, Run LL: 1.0\n",
      "Trial 6, Accuracy: 1.0\n",
      "Trial 6 Final, True label: 1, Predicted label: 1, Walk LL: 0.0, Run LL: 1.0\n",
      "Trial 7, Accuracy: 1.0\n",
      "Trial 7 Final, True label: 1, Predicted label: 1, Walk LL: 0.0, Run LL: 1.0\n",
      "Trial 8, Accuracy: 1.0\n",
      "Trial 8 Final, True label: 1, Predicted label: 1, Walk LL: 0.0, Run LL: 1.0\n",
      "Trial 9, Accuracy: 1.0\n",
      "Trial 9 Final, True label: 1, Predicted label: 1, Walk LL: 0.0, Run LL: 1.0\n",
      "Trial 10, Accuracy: 0.972972972972973\n",
      "Trial 10 Final, True label: 1, Predicted label: 1, Walk LL: 0.0, Run LL: 1.0\n",
      "Trial 11, Accuracy: 1.0\n",
      "Trial 11 Final, True label: 1, Predicted label: 1, Walk LL: 0.0, Run LL: 1.0\n",
      "Trial 12, Accuracy: 1.0\n",
      "Trial 12 Final, True label: 1, Predicted label: 1, Walk LL: 0.0, Run LL: 1.0\n",
      "Trial 13, Accuracy: 1.0\n",
      "Trial 13 Final, True label: 1, Predicted label: 1, Walk LL: 0.0, Run LL: 1.0\n",
      "Trial 14, Accuracy: 1.0\n",
      "Trial 14 Final, True label: 1, Predicted label: 1, Walk LL: 0.0, Run LL: 1.0\n",
      "Trial 15, Accuracy: 1.0\n",
      "Trial 15 Final, True label: 1, Predicted label: 1, Walk LL: 0.0, Run LL: 1.0\n",
      "Trial 16, Accuracy: 1.0\n",
      "Trial 16 Final, True label: 1, Predicted label: 1, Walk LL: 0.0, Run LL: 1.0\n",
      "Trial 17, Accuracy: 1.0\n",
      "Trial 17 Final, True label: 1, Predicted label: 1, Walk LL: 0.0, Run LL: 1.0\n",
      "Trial 18, Accuracy: 0.14492753623188406\n",
      "Trial 18 Final, True label: 0, Predicted label: 1, Walk LL: 3.577933468369125e-79, Run LL: 1.0\n",
      "Trial 19, Accuracy: 0.1\n",
      "Trial 19 Final, True label: 0, Predicted label: 1, Walk LL: 0.0, Run LL: 1.0\n",
      "Trial 20, Accuracy: 0.38333333333333336\n",
      "Trial 20 Final, True label: 0, Predicted label: 1, Walk LL: 1.968190930165133e-307, Run LL: 1.0\n",
      "Trial 21, Accuracy: 0.1717171717171717\n",
      "Trial 21 Final, True label: 0, Predicted label: 0, Walk LL: 1.0, Run LL: 2.460193288929263e-20\n",
      "Trial 22, Accuracy: 0.984375\n",
      "Trial 22 Final, True label: 0, Predicted label: 0, Walk LL: 1.0, Run LL: 0.0\n",
      "Trial 23, Accuracy: 0.963855421686747\n",
      "Trial 23 Final, True label: 0, Predicted label: 0, Walk LL: 1.0, Run LL: 0.0\n",
      "Trial 24, Accuracy: 0.9519230769230769\n",
      "Trial 24 Final, True label: 0, Predicted label: 0, Walk LL: 1.0, Run LL: 3.230937289682915e-133\n",
      "Trial 25, Accuracy: 0.9605263157894737\n",
      "Trial 25 Final, True label: 0, Predicted label: 0, Walk LL: 1.0, Run LL: 6.824310793732585e-200\n",
      "Trial 26, Accuracy: 0.9838709677419355\n",
      "Trial 26 Final, True label: 0, Predicted label: 0, Walk LL: 1.0, Run LL: 3.5179644885536104e-179\n",
      "Trial 27, Accuracy: 0.9672131147540983\n",
      "Trial 27 Final, True label: 0, Predicted label: 0, Walk LL: 1.0, Run LL: 1.2415627345692113e-264\n",
      "Trial 28, Accuracy: 0.8888888888888888\n",
      "Trial 28 Final, True label: 0, Predicted label: 0, Walk LL: 1.0, Run LL: 5.545159818777649e-61\n",
      "Trial 29, Accuracy: 0.9433962264150944\n",
      "Trial 29 Final, True label: 0, Predicted label: 0, Walk LL: 1.0, Run LL: 1.1393044738505724e-103\n",
      "Trial 30, Accuracy: 0.9484536082474226\n",
      "Trial 30 Final, True label: 0, Predicted label: 0, Walk LL: 1.0, Run LL: 0.0\n",
      "Trial 31, Accuracy: 0.9333333333333333\n",
      "Trial 31 Final, True label: 0, Predicted label: 1, Walk LL: 0.21382758915737737, Run LL: 0.7861724108426226\n",
      "Trial 32, Accuracy: 0.9122807017543859\n",
      "Trial 32 Final, True label: 0, Predicted label: 0, Walk LL: 1.0, Run LL: 0.0\n",
      "Trial 33, Accuracy: 0.9491525423728814\n",
      "Trial 33 Final, True label: 0, Predicted label: 0, Walk LL: 1.0, Run LL: 5.19659421740754e-185\n",
      "Trial 34, Accuracy: 0.8533333333333334\n",
      "Trial 34 Final, True label: 0, Predicted label: 0, Walk LL: 1.0, Run LL: 7.937312333773753e-242\n",
      "Trial 35, Accuracy: 0.32727272727272727\n",
      "Trial 35 Final, True label: 0, Predicted label: 0, Walk LL: 1.0, Run LL: 2.2377277159906245e-35\n",
      "Trial 36, Accuracy: 0.3142857142857143\n",
      "Trial 36 Final, True label: 0, Predicted label: 1, Walk LL: 9.67344684621353e-91, Run LL: 1.0\n",
      "Trial 37, Accuracy: 0.3037037037037037\n",
      "Trial 37 Final, True label: 0, Predicted label: 1, Walk LL: 5.1458564374452413e-132, Run LL: 1.0\n",
      "Trial 38, Accuracy: 0.35398230088495575\n",
      "Trial 38 Final, True label: 0, Predicted label: 1, Walk LL: 8.680909355878717e-70, Run LL: 1.0\n",
      "                Actual Walk  Actual Run  Total\n",
      "Predicted Walk         1090           1   1091\n",
      "Predicted Run           635         565   1200\n",
      "Total                  1725         566   2291\n"
     ]
    }
   ],
   "source": [
    "predicted_walk_actual_walk = 0\n",
    "predicted_walk_actual_run = 0\n",
    "predicted_run_actual_walk = 0\n",
    "predicted_run_actual_run = 0\n",
    "\n",
    "for i, trial in enumerate(TEST_TRIALS):\n",
    "    label = TRUTH_LABELS[i]\n",
    "\n",
    "    # Get the data in an array format\n",
    "    data_arr = trial.as_dataframe()[reduced_columns].to_numpy(dtype=np.float32)[::5, :]\n",
    "\n",
    "    gpdm_pf.reset()\n",
    "    correct = 0\n",
    "    total = 0\n",
    "\n",
    "    # Run the filter bank on the trial\n",
    "    for data in data_arr:\n",
    "        gpdm_pf.update(data)\n",
    "        predicted_label = gpdm_pf.get_most_likely_class()\n",
    "        latest_lls = gpdm_pf.class_probabilities()\n",
    "        walk_ll = latest_lls[0]\n",
    "        run_ll = latest_lls[1]\n",
    "\n",
    "        if predicted_label == 0 and label == 0:\n",
    "            predicted_walk_actual_walk += 1\n",
    "        elif predicted_label == 0 and label == 1:   \n",
    "            predicted_walk_actual_run += 1\n",
    "        elif predicted_label == 1 and label == 0:\n",
    "            predicted_run_actual_walk += 1\n",
    "        elif predicted_label == 1 and label == 1:\n",
    "            predicted_run_actual_run += 1\n",
    "\n",
    "        if predicted_label == label:\n",
    "            correct += 1\n",
    "\n",
    "        total += 1\n",
    "\n",
    "    accuracy = correct / total\n",
    "\n",
    "    print(f\"Trial {i}, Accuracy: {accuracy}\")\n",
    "    print(f\"Trial {i} Final, True label: {label}, Predicted label: {predicted_label}, Walk LL: {walk_ll}, Run LL: {run_ll}\")\n",
    "\n",
    "# Print the confusion matrix\n",
    "confusion_matrix = pd.DataFrame({\n",
    "    'Actual Walk': [predicted_walk_actual_walk, predicted_run_actual_walk],\n",
    "    'Actual Run': [predicted_walk_actual_run, predicted_run_actual_run]\n",
    "}, index=['Predicted Walk', 'Predicted Run'])\n",
    "\n",
    "# add the total column and row\n",
    "confusion_matrix['Total'] = confusion_matrix.sum(axis=1)\n",
    "confusion_matrix.loc['Total'] = confusion_matrix.sum(axis=0)\n",
    "\n",
    "\n",
    "print(confusion_matrix)\n"
   ]
  },
  {
   "cell_type": "code",
   "execution_count": 6,
   "metadata": {},
   "outputs": [
    {
     "name": "stdout",
     "output_type": "stream",
     "text": [
      "Accuracy: 0.7223919685726757\n",
      "Precision: 0.6318840579710145\n",
      "Recall: 0.999083409715857\n",
      "F1 Score: 0.7741477272727273\n"
     ]
    }
   ],
   "source": [
    "# Calculate the accuracy, precision, recall, and F1 score\n",
    "accuracy = (predicted_walk_actual_walk + predicted_run_actual_run) / (predicted_walk_actual_walk + predicted_walk_actual_run + predicted_run_actual_walk + predicted_run_actual_run)\n",
    "precision = predicted_walk_actual_walk / (predicted_walk_actual_walk + predicted_run_actual_walk)\n",
    "recall = predicted_walk_actual_walk / (predicted_walk_actual_walk + predicted_walk_actual_run)\n",
    "f1 = 2 * precision * recall / (precision + recall)\n",
    "\n",
    "print(f\"Accuracy: {accuracy}\")\n",
    "print(f\"Precision: {precision}\")\n",
    "print(f\"Recall: {recall}\")\n",
    "print(f\"F1 Score: {f1}\")"
   ]
  }
 ],
 "metadata": {
  "kernelspec": {
   "display_name": "gphd",
   "language": "python",
   "name": "python3"
  },
  "language_info": {
   "codemirror_mode": {
    "name": "ipython",
    "version": 3
   },
   "file_extension": ".py",
   "mimetype": "text/x-python",
   "name": "python",
   "nbconvert_exporter": "python",
   "pygments_lexer": "ipython3",
   "version": "3.12.6"
  }
 },
 "nbformat": 4,
 "nbformat_minor": 2
}
