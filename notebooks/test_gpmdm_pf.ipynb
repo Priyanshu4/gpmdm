{
 "cells": [
  {
   "cell_type": "code",
   "execution_count": 1,
   "metadata": {},
   "outputs": [],
   "source": [
    "import notebook_setup\n",
    "from notebook_setup import MODELS_DIR\n",
    "\n",
    "import numpy as np\n",
    "import pandas as pd\n",
    "import torch \n",
    "\n",
    "from gpmdm import GPMDM, GPMDM_PF\n",
    "from dataset_utils.mocap_labels import WALK_TRIALS_TRAIN, WALK_TRIALS_TEST, RUN_TRIALS_TRAIN, RUN_TRIALS_TEST\n",
    "import dataset_utils.select_joints as select_joints"
   ]
  },
  {
   "cell_type": "code",
   "execution_count": 2,
   "metadata": {},
   "outputs": [
    {
     "name": "stdout",
     "output_type": "stream",
     "text": [
      "\u001b[32m\n",
      "Model and hyperparameters correctly loaded\u001b[0m\n"
     ]
    }
   ],
   "source": [
    "model_path = MODELS_DIR / 'gpmdm' / 'gpmdm_2024_12_04.pth'\n",
    "gpdm = GPMDM.load(model_path)"
   ]
  },
  {
   "cell_type": "code",
   "execution_count": 3,
   "metadata": {},
   "outputs": [
    {
     "name": "stdout",
     "output_type": "stream",
     "text": [
      "Number of DOFs: 35\n"
     ]
    }
   ],
   "source": [
    "TEST_TRIALS = RUN_TRIALS_TEST + WALK_TRIALS_TEST\n",
    "TRUTH_LABELS = [1] * len(RUN_TRIALS_TEST) + [0] * len(WALK_TRIALS_TEST)\n",
    "\n",
    "reduced_columns = TEST_TRIALS[0].get_columns_for_joints(select_joints.WALKING_SIMPLIFIED_JOINTS)\n",
    "DOFs = len(reduced_columns)\n",
    "print(f\"Number of DOFs: {DOFs}\")"
   ]
  },
  {
   "cell_type": "code",
   "execution_count": 4,
   "metadata": {},
   "outputs": [],
   "source": [
    "# Markov Transition Matrix between classes\n",
    "markov_transition_matrix = torch.tensor(\n",
    "    [[0.9, 0.1], \n",
    "     [0.1, 0.9]])\n",
    "\n",
    "# Build a gpdm_pf model\n",
    "gpdm_pf = GPMDM_PF(gpdm, \n",
    "                   markov_switching_model=markov_transition_matrix,\n",
    "                   num_particles=100,\n",
    "                   n_fresh_particles_at_each_timestep=0)\n",
    "   "
   ]
  },
  {
   "cell_type": "code",
   "execution_count": 5,
   "metadata": {},
   "outputs": [
    {
     "name": "stdout",
     "output_type": "stream",
     "text": [
      "Trial 0, Accuracy: 1.0\n",
      "Trial 0 Final, True label: 1, Predicted label: 1, Walk LL: 0.0, Run LL: 1.0\n",
      "Trial 1, Accuracy: 1.0\n",
      "Trial 1 Final, True label: 1, Predicted label: 1, Walk LL: 0.0, Run LL: 1.0\n",
      "Trial 2, Accuracy: 1.0\n",
      "Trial 2 Final, True label: 1, Predicted label: 1, Walk LL: 0.0, Run LL: 1.0\n",
      "Trial 3, Accuracy: 1.0\n",
      "Trial 3 Final, True label: 1, Predicted label: 1, Walk LL: 0.0, Run LL: 1.0\n",
      "Trial 4, Accuracy: 1.0\n",
      "Trial 4 Final, True label: 1, Predicted label: 1, Walk LL: 0.0, Run LL: 1.0\n",
      "Trial 5, Accuracy: 0.9629629629629629\n",
      "Trial 5 Final, True label: 1, Predicted label: 1, Walk LL: 0.0, Run LL: 1.0\n",
      "Trial 6, Accuracy: 1.0\n",
      "Trial 6 Final, True label: 1, Predicted label: 1, Walk LL: 0.0, Run LL: 1.0\n",
      "Trial 7, Accuracy: 1.0\n",
      "Trial 7 Final, True label: 1, Predicted label: 1, Walk LL: 0.0, Run LL: 1.0\n",
      "Trial 8, Accuracy: 1.0\n",
      "Trial 8 Final, True label: 1, Predicted label: 1, Walk LL: 0.0, Run LL: 1.0\n",
      "Trial 9, Accuracy: 1.0\n",
      "Trial 9 Final, True label: 1, Predicted label: 1, Walk LL: 0.0, Run LL: 1.0\n",
      "Trial 10, Accuracy: 1.0\n",
      "Trial 10 Final, True label: 1, Predicted label: 1, Walk LL: 0.0, Run LL: 1.0\n",
      "Trial 11, Accuracy: 1.0\n",
      "Trial 11 Final, True label: 1, Predicted label: 1, Walk LL: 0.0, Run LL: 1.0\n",
      "Trial 12, Accuracy: 1.0\n",
      "Trial 12 Final, True label: 1, Predicted label: 1, Walk LL: 0.0, Run LL: 1.0\n",
      "Trial 13, Accuracy: 1.0\n",
      "Trial 13 Final, True label: 1, Predicted label: 1, Walk LL: 0.0, Run LL: 1.0\n",
      "Trial 14, Accuracy: 1.0\n",
      "Trial 14 Final, True label: 1, Predicted label: 1, Walk LL: 0.0, Run LL: 1.0\n",
      "Trial 15, Accuracy: 1.0\n",
      "Trial 15 Final, True label: 1, Predicted label: 1, Walk LL: 0.0, Run LL: 1.0\n",
      "Trial 16, Accuracy: 1.0\n",
      "Trial 16 Final, True label: 1, Predicted label: 1, Walk LL: 0.0, Run LL: 1.0\n",
      "Trial 17, Accuracy: 1.0\n",
      "Trial 17 Final, True label: 1, Predicted label: 1, Walk LL: 0.0, Run LL: 1.0\n",
      "Trial 18, Accuracy: 0.9855072463768116\n",
      "Trial 18 Final, True label: 0, Predicted label: 0, Walk LL: 1.0, Run LL: 0.0\n",
      "Trial 19, Accuracy: 0.03333333333333333\n",
      "Trial 19 Final, True label: 0, Predicted label: 1, Walk LL: 0.0, Run LL: 1.0\n",
      "Trial 20, Accuracy: 0.0\n",
      "Trial 20 Final, True label: 0, Predicted label: 1, Walk LL: 0.0, Run LL: 1.0\n",
      "Trial 21, Accuracy: 0.010101010101010102\n",
      "Trial 21 Final, True label: 0, Predicted label: 1, Walk LL: 0.0, Run LL: 1.0\n",
      "Trial 22, Accuracy: 0.9375\n",
      "Trial 22 Final, True label: 0, Predicted label: 0, Walk LL: 1.0, Run LL: 0.0\n",
      "Trial 23, Accuracy: 0.927710843373494\n",
      "Trial 23 Final, True label: 0, Predicted label: 0, Walk LL: 1.0, Run LL: 0.0\n",
      "Trial 24, Accuracy: 0.019230769230769232\n",
      "Trial 24 Final, True label: 0, Predicted label: 1, Walk LL: 0.0, Run LL: 1.0\n",
      "Trial 25, Accuracy: 0.9868421052631579\n",
      "Trial 25 Final, True label: 0, Predicted label: 0, Walk LL: 1.0, Run LL: 0.0\n",
      "Trial 26, Accuracy: 0.9516129032258065\n",
      "Trial 26 Final, True label: 0, Predicted label: 0, Walk LL: 1.0, Run LL: 0.0\n",
      "Trial 27, Accuracy: 0.9836065573770492\n",
      "Trial 27 Final, True label: 0, Predicted label: 0, Walk LL: 1.0, Run LL: 0.0\n",
      "Trial 28, Accuracy: 0.9682539682539683\n",
      "Trial 28 Final, True label: 0, Predicted label: 0, Walk LL: 1.0, Run LL: 0.0\n",
      "Trial 29, Accuracy: 0.05660377358490566\n",
      "Trial 29 Final, True label: 0, Predicted label: 1, Walk LL: 0.0, Run LL: 1.0\n",
      "Trial 30, Accuracy: 0.8762886597938144\n",
      "Trial 30 Final, True label: 0, Predicted label: 1, Walk LL: 0.0, Run LL: 1.0\n",
      "Trial 31, Accuracy: 0.85\n",
      "Trial 31 Final, True label: 0, Predicted label: 0, Walk LL: 1.0, Run LL: 0.0\n",
      "Trial 32, Accuracy: 0.03508771929824561\n",
      "Trial 32 Final, True label: 0, Predicted label: 1, Walk LL: 0.0, Run LL: 1.0\n",
      "Trial 33, Accuracy: 0.01694915254237288\n",
      "Trial 33 Final, True label: 0, Predicted label: 1, Walk LL: 0.0, Run LL: 1.0\n",
      "Trial 34, Accuracy: 0.88\n",
      "Trial 34 Final, True label: 0, Predicted label: 0, Walk LL: 1.0, Run LL: 0.0\n",
      "Trial 35, Accuracy: 0.9090909090909091\n",
      "Trial 35 Final, True label: 0, Predicted label: 0, Walk LL: 1.0, Run LL: 0.0\n",
      "Trial 36, Accuracy: 0.009523809523809525\n",
      "Trial 36 Final, True label: 0, Predicted label: 1, Walk LL: 0.0, Run LL: 1.0\n",
      "Trial 37, Accuracy: 0.007407407407407408\n",
      "Trial 37 Final, True label: 0, Predicted label: 1, Walk LL: 0.0, Run LL: 1.0\n",
      "Trial 38, Accuracy: 0.008849557522123894\n",
      "Trial 38 Final, True label: 0, Predicted label: 1, Walk LL: 0.0, Run LL: 1.0\n",
      "                Actual Walk  Actual Run  Total\n",
      "Predicted Walk          776           1    777\n",
      "Predicted Run           949         565   1514\n",
      "Total                  1725         566   2291\n"
     ]
    }
   ],
   "source": [
    "predicted_walk_actual_walk = 0\n",
    "predicted_walk_actual_run = 0\n",
    "predicted_run_actual_walk = 0\n",
    "predicted_run_actual_run = 0\n",
    "\n",
    "for i, trial in enumerate(TEST_TRIALS):\n",
    "    label = TRUTH_LABELS[i]\n",
    "\n",
    "    # Get the data in an array format\n",
    "    data_arr = trial.as_dataframe()[reduced_columns].to_numpy(dtype=np.float32)[::5, :]\n",
    "\n",
    "    gpdm_pf.reset()\n",
    "    correct = 0\n",
    "    total = 0\n",
    "\n",
    "    # Run the filter bank on the trial\n",
    "    for data in data_arr:\n",
    "        gpdm_pf.update(data)\n",
    "        predicted_label = gpdm_pf.get_most_likely_class()\n",
    "        latest_lls = gpdm_pf.class_probabilities()\n",
    "        walk_ll = latest_lls[0]\n",
    "        run_ll = latest_lls[1]\n",
    "\n",
    "        if predicted_label == 0 and label == 0:\n",
    "            predicted_walk_actual_walk += 1\n",
    "        elif predicted_label == 0 and label == 1:   \n",
    "            predicted_walk_actual_run += 1\n",
    "        elif predicted_label == 1 and label == 0:\n",
    "            predicted_run_actual_walk += 1\n",
    "        elif predicted_label == 1 and label == 1:\n",
    "            predicted_run_actual_run += 1\n",
    "\n",
    "        if predicted_label == label:\n",
    "            correct += 1\n",
    "\n",
    "        total += 1\n",
    "\n",
    "    accuracy = correct / total\n",
    "\n",
    "    print(f\"Trial {i}, Accuracy: {accuracy}\")\n",
    "    print(f\"Trial {i} Final, True label: {label}, Predicted label: {predicted_label}, Walk LL: {walk_ll}, Run LL: {run_ll}\")\n",
    "\n",
    "# Print the confusion matrix\n",
    "confusion_matrix = pd.DataFrame({\n",
    "    'Actual Walk': [predicted_walk_actual_walk, predicted_run_actual_walk],\n",
    "    'Actual Run': [predicted_walk_actual_run, predicted_run_actual_run]\n",
    "}, index=['Predicted Walk', 'Predicted Run'])\n",
    "\n",
    "# add the total column and row\n",
    "confusion_matrix['Total'] = confusion_matrix.sum(axis=1)\n",
    "confusion_matrix.loc['Total'] = confusion_matrix.sum(axis=0)\n",
    "\n",
    "\n",
    "print(confusion_matrix)\n"
   ]
  },
  {
   "cell_type": "code",
   "execution_count": 6,
   "metadata": {},
   "outputs": [
    {
     "name": "stdout",
     "output_type": "stream",
     "text": [
      "Accuracy: 0.5853339153208206\n",
      "Precision: 0.4498550724637681\n",
      "Recall: 0.9987129987129987\n",
      "F1 Score: 0.6203037569944044\n"
     ]
    }
   ],
   "source": [
    "# Calculate the accuracy, precision, recall, and F1 score\n",
    "accuracy = (predicted_walk_actual_walk + predicted_run_actual_run) / (predicted_walk_actual_walk + predicted_walk_actual_run + predicted_run_actual_walk + predicted_run_actual_run)\n",
    "precision = predicted_walk_actual_walk / (predicted_walk_actual_walk + predicted_run_actual_walk)\n",
    "recall = predicted_walk_actual_walk / (predicted_walk_actual_walk + predicted_walk_actual_run)\n",
    "f1 = 2 * precision * recall / (precision + recall)\n",
    "\n",
    "print(f\"Accuracy: {accuracy}\")\n",
    "print(f\"Precision: {precision}\")\n",
    "print(f\"Recall: {recall}\")\n",
    "print(f\"F1 Score: {f1}\")"
   ]
  }
 ],
 "metadata": {
  "kernelspec": {
   "display_name": "gphd",
   "language": "python",
   "name": "python3"
  },
  "language_info": {
   "codemirror_mode": {
    "name": "ipython",
    "version": 3
   },
   "file_extension": ".py",
   "mimetype": "text/x-python",
   "name": "python",
   "nbconvert_exporter": "python",
   "pygments_lexer": "ipython3",
   "version": "3.12.6"
  }
 },
 "nbformat": 4,
 "nbformat_minor": 2
}
