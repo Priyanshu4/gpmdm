{
 "cells": [
  {
   "cell_type": "code",
   "execution_count": null,
   "metadata": {},
   "outputs": [],
   "source": [
    "import notebook_setup\n",
    "import numpy as np\n",
    "import torch \n",
    "from pathlib import Path\n",
    "\n",
    "from gpmdm import GPMDM\n",
    "from gpmdm_pf import GPMDM_PF\n",
    "from dataset_utils.mocap_labels import WALK_TRIALS_TRAIN, WALK_TRIALS_TEST, RUN_TRIALS_TRAIN, RUN_TRIALS_TEST\n",
    "import dataset_utils.select_joints as select_joints"
   ]
  },
  {
   "cell_type": "code",
   "execution_count": 9,
   "metadata": {},
   "outputs": [],
   "source": [
    "config_path = Path.cwd() / 'models' / 'gpmdm' / 'gpmdm_config4d.pth'\n",
    "state_path = Path.cwd() / 'models' / 'gpmdm' / 'gpmdm_state4d.pth'"
   ]
  },
  {
   "cell_type": "code",
   "execution_count": 10,
   "metadata": {},
   "outputs": [
    {
     "name": "stdout",
     "output_type": "stream",
     "text": [
      "Number of DOFs: 35\n"
     ]
    }
   ],
   "source": [
    "reduced_columns = WALK_TRIALS_TEST[0].get_columns_for_joints(select_joints.WALKING_SIMPLIFIED_JOINTS)\n",
    "DOFs = len(reduced_columns)\n",
    "print(f\"Number of DOFs: {DOFs}\")\n"
   ]
  },
  {
   "cell_type": "code",
   "execution_count": 11,
   "metadata": {},
   "outputs": [
    {
     "name": "stdout",
     "output_type": "stream",
     "text": [
      "Number of DOFs: 35\n"
     ]
    }
   ],
   "source": [
    "TEST_TRIALS = RUN_TRIALS_TEST + WALK_TRIALS_TEST\n",
    "TRUTH_LABELS = [1] * len(RUN_TRIALS_TEST) + [0] * len(WALK_TRIALS_TEST)\n",
    "\n",
    "reduced_columns = TEST_TRIALS[0].get_columns_for_joints(select_joints.WALKING_SIMPLIFIED_JOINTS)\n",
    "DOFs = len(reduced_columns)\n",
    "print(f\"Number of DOFs: {DOFs}\")"
   ]
  },
  {
   "cell_type": "code",
   "execution_count": 12,
   "metadata": {},
   "outputs": [],
   "source": [
    "d = 4 # latent space dimension\n",
    "DOFs = len(reduced_columns)  # number of degrees of freedom\n",
    "\n",
    "dyn_back_step = 1 # Number of time steps to look back in the dynamics GP\n",
    "\n",
    "# Initial values for hyperparameters\n",
    "y_lambdas_init = np.ones(DOFs)  # Signal standard deviation for observation GP\n",
    "y_lengthscales_init = np.ones(d)  # Lengthscales for observation GP\n",
    "y_sigma_n_init = 1e-2  # Noise standard deviation for observation GP\n",
    "\n",
    "x_lambdas_init = np.ones(d)  # Signal standard deviation for latent dynamics GP\n",
    "x_lengthscales_init = np.ones(dyn_back_step*d)  # Lengthscales for latent dynamics GP\n",
    "x_sigma_n_init = 1e-2  # Noise standard deviation for latent dynamics GP\n",
    "x_lin_coeff_init = np.ones(dyn_back_step*d + 1)  # Linear coefficients for latent dynamics GP\n"
   ]
  },
  {
   "cell_type": "code",
   "execution_count": 13,
   "metadata": {},
   "outputs": [],
   "source": [
    "gpdm = GPMDM(\n",
    "        D=DOFs,\n",
    "        d=d,\n",
    "        n_classes=2,\n",
    "        dyn_target='full',\n",
    "        dyn_back_step=dyn_back_step,\n",
    "        y_lambdas_init=y_lambdas_init,\n",
    "        y_lengthscales_init=y_lengthscales_init,\n",
    "        y_sigma_n_init=y_sigma_n_init,\n",
    "        x_lambdas_init=x_lambdas_init,\n",
    "        x_lengthscales_init=x_lengthscales_init,\n",
    "        x_sigma_n_init=x_sigma_n_init,\n",
    "        x_lin_coeff_init=x_lin_coeff_init\n",
    "    )"
   ]
  },
  {
   "cell_type": "code",
   "execution_count": 14,
   "metadata": {},
   "outputs": [
    {
     "name": "stdout",
     "output_type": "stream",
     "text": [
      "\u001b[32m\n",
      "GPDM correctly loaded\u001b[0m\n"
     ]
    }
   ],
   "source": [
    "gpdm.load(config_path, state_path)"
   ]
  },
  {
   "cell_type": "code",
   "execution_count": 15,
   "metadata": {},
   "outputs": [],
   "source": [
    "# Markov Transition Matrix between classes\n",
    "markov_transition_matrix = torch.tensor(\n",
    "    [[0.9, 0.1], \n",
    "     [0.1, 0.9]])\n",
    "\n",
    "# Build a gpdm_pf model\n",
    "gpdm_pf = GPMDM_PF(gpdm, \n",
    "                   markov_switching_model=markov_transition_matrix,\n",
    "                   num_particles=100,\n",
    "                   n_fresh_particles_at_each_timestep=99)\n",
    "   "
   ]
  },
  {
   "cell_type": "code",
   "execution_count": 16,
   "metadata": {},
   "outputs": [
    {
     "name": "stdout",
     "output_type": "stream",
     "text": [
      "Trial 0, Accuracy: 1.0\n",
      "Trial 0 Final, True label: 1, Predicted label: 1, Walk LL: 0.0, Run LL: 1.0\n",
      "Trial 1, Accuracy: 1.0\n",
      "Trial 1 Final, True label: 1, Predicted label: 1, Walk LL: 0.0, Run LL: 1.0\n",
      "Trial 2, Accuracy: 1.0\n",
      "Trial 2 Final, True label: 1, Predicted label: 1, Walk LL: 0.0, Run LL: 1.0\n",
      "Trial 3, Accuracy: 1.0\n",
      "Trial 3 Final, True label: 1, Predicted label: 1, Walk LL: 0.0, Run LL: 1.0\n",
      "Trial 4, Accuracy: 1.0\n",
      "Trial 4 Final, True label: 1, Predicted label: 1, Walk LL: 0.0, Run LL: 1.0\n",
      "Trial 5, Accuracy: 1.0\n",
      "Trial 5 Final, True label: 1, Predicted label: 1, Walk LL: 0.0, Run LL: 1.0\n",
      "Trial 6, Accuracy: 1.0\n",
      "Trial 6 Final, True label: 1, Predicted label: 1, Walk LL: 0.0, Run LL: 1.0\n",
      "Trial 7, Accuracy: 1.0\n",
      "Trial 7 Final, True label: 1, Predicted label: 1, Walk LL: 0.0, Run LL: 1.0\n",
      "Trial 8, Accuracy: 1.0\n",
      "Trial 8 Final, True label: 1, Predicted label: 1, Walk LL: 0.0, Run LL: 1.0\n",
      "Trial 9, Accuracy: 1.0\n",
      "Trial 9 Final, True label: 1, Predicted label: 1, Walk LL: 0.0, Run LL: 1.0\n",
      "Trial 10, Accuracy: 0.918918918918919\n",
      "Trial 10 Final, True label: 1, Predicted label: 1, Walk LL: 0.0, Run LL: 1.0\n",
      "Trial 11, Accuracy: 1.0\n",
      "Trial 11 Final, True label: 1, Predicted label: 1, Walk LL: 0.0, Run LL: 1.0\n",
      "Trial 12, Accuracy: 1.0\n",
      "Trial 12 Final, True label: 1, Predicted label: 1, Walk LL: 0.0, Run LL: 1.0\n",
      "Trial 13, Accuracy: 1.0\n",
      "Trial 13 Final, True label: 1, Predicted label: 1, Walk LL: 0.0, Run LL: 1.0\n",
      "Trial 14, Accuracy: 1.0\n",
      "Trial 14 Final, True label: 1, Predicted label: 1, Walk LL: 0.0, Run LL: 1.0\n",
      "Trial 15, Accuracy: 1.0\n",
      "Trial 15 Final, True label: 1, Predicted label: 1, Walk LL: 0.0, Run LL: 1.0\n",
      "Trial 16, Accuracy: 1.0\n",
      "Trial 16 Final, True label: 1, Predicted label: 1, Walk LL: 0.0, Run LL: 1.0\n",
      "Trial 17, Accuracy: 1.0\n",
      "Trial 17 Final, True label: 1, Predicted label: 1, Walk LL: 0.0, Run LL: 1.0\n",
      "Trial 18, Accuracy: 0.4492753623188406\n",
      "Trial 18 Final, True label: 0, Predicted label: 0, Walk LL: 1.0, Run LL: 5.957383678990674e-76\n",
      "Trial 19, Accuracy: 0.36666666666666664\n",
      "Trial 19 Final, True label: 0, Predicted label: 1, Walk LL: 0.0, Run LL: 1.0\n",
      "Trial 20, Accuracy: 0.5166666666666667\n",
      "Trial 20 Final, True label: 0, Predicted label: 0, Walk LL: 0.9999999999999982, Run LL: 1.852742459712574e-15\n",
      "Trial 21, Accuracy: 0.3939393939393939\n",
      "Trial 21 Final, True label: 0, Predicted label: 1, Walk LL: 9.276572040646745e-08, Run LL: 0.9999999072342796\n",
      "Trial 22, Accuracy: 0.421875\n",
      "Trial 22 Final, True label: 0, Predicted label: 1, Walk LL: 2.741443095756804e-55, Run LL: 1.0\n",
      "Trial 23, Accuracy: 0.4578313253012048\n",
      "Trial 23 Final, True label: 0, Predicted label: 0, Walk LL: 1.0, Run LL: 2.0849275733329576e-101\n",
      "Trial 24, Accuracy: 0.5673076923076923\n",
      "Trial 24 Final, True label: 0, Predicted label: 1, Walk LL: 5.584505381930287e-95, Run LL: 1.0\n",
      "Trial 25, Accuracy: 0.6447368421052632\n",
      "Trial 25 Final, True label: 0, Predicted label: 1, Walk LL: 1.6172935218459486e-69, Run LL: 1.0\n",
      "Trial 26, Accuracy: 0.4838709677419355\n",
      "Trial 26 Final, True label: 0, Predicted label: 0, Walk LL: 1.0, Run LL: 4.796139252836669e-66\n",
      "Trial 27, Accuracy: 0.5081967213114754\n",
      "Trial 27 Final, True label: 0, Predicted label: 1, Walk LL: 5.837793277067791e-17, Run LL: 1.0\n",
      "Trial 28, Accuracy: 0.5555555555555556\n",
      "Trial 28 Final, True label: 0, Predicted label: 0, Walk LL: 1.0, Run LL: 1.4625921081350653e-219\n",
      "Trial 29, Accuracy: 0.5471698113207547\n",
      "Trial 29 Final, True label: 0, Predicted label: 0, Walk LL: 1.0, Run LL: 3.3387872007455874e-199\n",
      "Trial 30, Accuracy: 0.865979381443299\n",
      "Trial 30 Final, True label: 0, Predicted label: 0, Walk LL: 1.0, Run LL: 4.6e-321\n",
      "Trial 31, Accuracy: 0.9833333333333333\n",
      "Trial 31 Final, True label: 0, Predicted label: 0, Walk LL: 1.0, Run LL: 0.0\n",
      "Trial 32, Accuracy: 0.9298245614035088\n",
      "Trial 32 Final, True label: 0, Predicted label: 0, Walk LL: 1.0, Run LL: 9.15825e-319\n",
      "Trial 33, Accuracy: 0.9322033898305084\n",
      "Trial 33 Final, True label: 0, Predicted label: 0, Walk LL: 1.0, Run LL: 1.4907742470058193e-146\n",
      "Trial 34, Accuracy: 0.88\n",
      "Trial 34 Final, True label: 0, Predicted label: 1, Walk LL: 4.623966278719167e-75, Run LL: 1.0\n",
      "Trial 35, Accuracy: 0.4818181818181818\n",
      "Trial 35 Final, True label: 0, Predicted label: 0, Walk LL: 1.0, Run LL: 2.0184008131269704e-169\n",
      "Trial 36, Accuracy: 0.5904761904761905\n",
      "Trial 36 Final, True label: 0, Predicted label: 0, Walk LL: 1.0, Run LL: 7.418389743459562e-18\n",
      "Trial 37, Accuracy: 0.5703703703703704\n",
      "Trial 37 Final, True label: 0, Predicted label: 0, Walk LL: 1.0, Run LL: 4.5240267356347896e-30\n",
      "Trial 38, Accuracy: 0.6371681415929203\n",
      "Trial 38 Final, True label: 0, Predicted label: 1, Walk LL: 2.418083875486376e-72, Run LL: 1.0\n"
     ]
    }
   ],
   "source": [
    "for i, trial in enumerate(TEST_TRIALS):\n",
    "    label = TRUTH_LABELS[i]\n",
    "\n",
    "    # Get the data in an array format\n",
    "    data_arr = trial.as_dataframe()[reduced_columns].to_numpy(dtype=np.float32)[::5, :]\n",
    "\n",
    "    gpdm_pf.reset()\n",
    "    correct = 0\n",
    "    total = 0\n",
    "\n",
    "    # Run the filter bank on the trial\n",
    "    for data in data_arr:\n",
    "        gpdm_pf.update(data)\n",
    "        predicted_label = gpdm_pf.get_most_likely_class()\n",
    "        latest_lls = gpdm_pf.class_probabilities()\n",
    "        walk_ll = latest_lls[0]\n",
    "        run_ll = latest_lls[1]\n",
    "\n",
    "        if predicted_label == label:\n",
    "            correct += 1\n",
    "        \n",
    "        total += 1\n",
    "\n",
    "    accuracy = correct / total\n",
    "\n",
    "    print(f\"Trial {i}, Accuracy: {accuracy}\")\n",
    "    print(f\"Trial {i} Final, True label: {label}, Predicted label: {predicted_label}, Walk LL: {walk_ll}, Run LL: {run_ll}\")\n"
   ]
  }
 ],
 "metadata": {
  "kernelspec": {
   "display_name": "gphd",
   "language": "python",
   "name": "python3"
  },
  "language_info": {
   "codemirror_mode": {
    "name": "ipython",
    "version": 3
   },
   "file_extension": ".py",
   "mimetype": "text/x-python",
   "name": "python",
   "nbconvert_exporter": "python",
   "pygments_lexer": "ipython3",
   "version": "3.12.6"
  }
 },
 "nbformat": 4,
 "nbformat_minor": 2
}
