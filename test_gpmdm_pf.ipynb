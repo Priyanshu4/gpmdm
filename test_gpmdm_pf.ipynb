{
 "cells": [
  {
   "cell_type": "code",
   "execution_count": 1,
   "metadata": {},
   "outputs": [
    {
     "name": "stderr",
     "output_type": "stream",
     "text": [
      "<frozen importlib._bootstrap>:488: RuntimeWarning: Your system is avx2 capable but pygame was not built with support for it. The performance of some of your blits could be adversely affected. Consider enabling compile time detection with environment variables like PYGAME_DETECT_AVX2=1 if you are compiling without cross compilation.\n"
     ]
    },
    {
     "name": "stdout",
     "output_type": "stream",
     "text": [
      "pygame 2.6.1 (SDL 2.30.7, Python 3.12.6)\n",
      "Hello from the pygame community. https://www.pygame.org/contribute.html\n"
     ]
    }
   ],
   "source": [
    "import numpy as np\n",
    "import torch \n",
    "from pathlib import Path\n",
    "\n",
    "from gpmdm import GPMDM\n",
    "from gpmdm_pf import GPMDM_PF\n",
    "from dataset_utils.mocap_labels import WALK_TRIALS_TRAIN, WALK_TRIALS_TEST, RUN_TRIALS_TRAIN, RUN_TRIALS_TEST\n",
    "import dataset_utils.select_joints as select_joints"
   ]
  },
  {
   "cell_type": "code",
   "execution_count": 2,
   "metadata": {},
   "outputs": [],
   "source": [
    "config_path = Path.cwd() / 'models' / 'gpmdm' / 'gpmdm_config.pth'\n",
    "state_path = Path.cwd() / 'models' / 'gpmdm' / 'gpmdm_state.pth'"
   ]
  },
  {
   "cell_type": "code",
   "execution_count": 3,
   "metadata": {},
   "outputs": [
    {
     "name": "stdout",
     "output_type": "stream",
     "text": [
      "Number of DOFs: 35\n"
     ]
    }
   ],
   "source": [
    "reduced_columns = WALK_TRIALS_TEST[0].get_columns_for_joints(select_joints.WALKING_SIMPLIFIED_JOINTS)\n",
    "DOFs = len(reduced_columns)\n",
    "print(f\"Number of DOFs: {DOFs}\")\n"
   ]
  },
  {
   "cell_type": "code",
   "execution_count": 4,
   "metadata": {},
   "outputs": [
    {
     "name": "stdout",
     "output_type": "stream",
     "text": [
      "Number of DOFs: 35\n"
     ]
    }
   ],
   "source": [
    "TEST_TRIALS = RUN_TRIALS_TEST + WALK_TRIALS_TEST\n",
    "TRUTH_LABELS = [1] * len(RUN_TRIALS_TEST) + [0] * len(WALK_TRIALS_TEST)\n",
    "\n",
    "reduced_columns = TEST_TRIALS[0].get_columns_for_joints(select_joints.WALKING_SIMPLIFIED_JOINTS)\n",
    "DOFs = len(reduced_columns)\n",
    "print(f\"Number of DOFs: {DOFs}\")"
   ]
  },
  {
   "cell_type": "code",
   "execution_count": 5,
   "metadata": {},
   "outputs": [],
   "source": [
    "d = 3 # latent space dimension\n",
    "DOFs = len(reduced_columns)  # number of degrees of freedom\n",
    "\n",
    "dyn_back_step = 1 # Number of time steps to look back in the dynamics GP\n",
    "\n",
    "# Initial values for hyperparameters\n",
    "y_lambdas_init = np.ones(DOFs)  # Signal standard deviation for observation GP\n",
    "y_lengthscales_init = np.ones(d)  # Lengthscales for observation GP\n",
    "y_sigma_n_init = 1e-2  # Noise standard deviation for observation GP\n",
    "\n",
    "x_lambdas_init = np.ones(d)  # Signal standard deviation for latent dynamics GP\n",
    "x_lengthscales_init = np.ones(dyn_back_step*d)  # Lengthscales for latent dynamics GP\n",
    "x_sigma_n_init = 1e-2  # Noise standard deviation for latent dynamics GP\n",
    "x_lin_coeff_init = np.ones(dyn_back_step*d + 1)  # Linear coefficients for latent dynamics GP\n"
   ]
  },
  {
   "cell_type": "code",
   "execution_count": 6,
   "metadata": {},
   "outputs": [],
   "source": [
    "gpdm = GPMDM(\n",
    "        D=DOFs,\n",
    "        d=d,\n",
    "        n_classes=2,\n",
    "        dyn_target='full',\n",
    "        dyn_back_step=dyn_back_step,\n",
    "        y_lambdas_init=y_lambdas_init,\n",
    "        y_lengthscales_init=y_lengthscales_init,\n",
    "        y_sigma_n_init=y_sigma_n_init,\n",
    "        x_lambdas_init=x_lambdas_init,\n",
    "        x_lengthscales_init=x_lengthscales_init,\n",
    "        x_sigma_n_init=x_sigma_n_init,\n",
    "        x_lin_coeff_init=x_lin_coeff_init\n",
    "    )"
   ]
  },
  {
   "cell_type": "code",
   "execution_count": 7,
   "metadata": {},
   "outputs": [
    {
     "name": "stdout",
     "output_type": "stream",
     "text": [
      "\u001b[32m\n",
      "GPDM correctly loaded\u001b[0m\n"
     ]
    }
   ],
   "source": [
    "gpdm.load(config_path, state_path)"
   ]
  },
  {
   "cell_type": "code",
   "execution_count": 8,
   "metadata": {},
   "outputs": [],
   "source": [
    "# Markov Transition Matrix between classes\n",
    "markov_transition_matrix = torch.tensor(\n",
    "    [[0.9, 0.1], \n",
    "     [0.1, 0.9]])\n",
    "\n",
    "# Build a gpdm_pf model\n",
    "gpdm_pf = GPMDM_PF(gpdm, \n",
    "                   markov_switching_model=markov_transition_matrix,\n",
    "                   num_particles=100)\n",
    "   "
   ]
  },
  {
   "cell_type": "code",
   "execution_count": 9,
   "metadata": {},
   "outputs": [
    {
     "name": "stdout",
     "output_type": "stream",
     "text": [
      "Running trial 0 with 30 frames\n",
      "Trial 0, Accuracy: 0.7666666666666667\n",
      "Trial 0 Final, True label: 1, Predicted label: 0, Walk LL: 1.0, Run LL: 0.0\n",
      "Running trial 1 with 26 frames\n",
      "Trial 1, Accuracy: 0.7692307692307693\n",
      "Trial 1 Final, True label: 1, Predicted label: 1, Walk LL: 0.0, Run LL: 1.0\n",
      "Running trial 2 with 26 frames\n",
      "Trial 2, Accuracy: 0.34615384615384615\n",
      "Trial 2 Final, True label: 1, Predicted label: 0, Walk LL: 1.0, Run LL: 0.0\n",
      "Running trial 3 with 29 frames\n",
      "Trial 3, Accuracy: 0.7241379310344828\n",
      "Trial 3 Final, True label: 1, Predicted label: 0, Walk LL: 1.0, Run LL: 0.0\n",
      "Running trial 4 with 31 frames\n",
      "Trial 4, Accuracy: 0.7096774193548387\n",
      "Trial 4 Final, True label: 1, Predicted label: 1, Walk LL: 0.0, Run LL: 1.0\n",
      "Running trial 5 with 27 frames\n",
      "Trial 5, Accuracy: 0.6296296296296297\n",
      "Trial 5 Final, True label: 1, Predicted label: 0, Walk LL: 1.0, Run LL: 0.0\n",
      "Running trial 6 with 33 frames\n",
      "Trial 6, Accuracy: 0.5151515151515151\n",
      "Trial 6 Final, True label: 1, Predicted label: 0, Walk LL: 1.0, Run LL: 0.0\n",
      "Running trial 7 with 38 frames\n",
      "Trial 7, Accuracy: 0.6842105263157895\n",
      "Trial 7 Final, True label: 1, Predicted label: 1, Walk LL: 0.0, Run LL: 1.0\n",
      "Running trial 8 with 27 frames\n",
      "Trial 8, Accuracy: 0.6296296296296297\n",
      "Trial 8 Final, True label: 1, Predicted label: 0, Walk LL: 1.0, Run LL: 0.0\n",
      "Running trial 9 with 28 frames\n",
      "Trial 9, Accuracy: 0.6428571428571429\n",
      "Trial 9 Final, True label: 1, Predicted label: 0, Walk LL: 1.0, Run LL: 0.0\n",
      "Running trial 10 with 37 frames\n",
      "Trial 10, Accuracy: 0.24324324324324326\n",
      "Trial 10 Final, True label: 1, Predicted label: 0, Walk LL: 1.0, Run LL: 0.0\n",
      "Running trial 11 with 34 frames\n",
      "Trial 11, Accuracy: 0.7058823529411765\n",
      "Trial 11 Final, True label: 1, Predicted label: 1, Walk LL: 0.0, Run LL: 1.0\n",
      "Running trial 12 with 35 frames\n",
      "Trial 12, Accuracy: 0.5428571428571428\n",
      "Trial 12 Final, True label: 1, Predicted label: 0, Walk LL: 1.0, Run LL: 0.0\n",
      "Running trial 13 with 32 frames\n",
      "Trial 13, Accuracy: 0.625\n",
      "Trial 13 Final, True label: 1, Predicted label: 1, Walk LL: 0.0, Run LL: 1.0\n",
      "Running trial 14 with 33 frames\n",
      "Trial 14, Accuracy: 0.6363636363636364\n",
      "Trial 14 Final, True label: 1, Predicted label: 1, Walk LL: 0.0, Run LL: 1.0\n",
      "Running trial 15 with 33 frames\n",
      "Trial 15, Accuracy: 0.7272727272727273\n",
      "Trial 15 Final, True label: 1, Predicted label: 1, Walk LL: 0.0, Run LL: 1.0\n",
      "Running trial 16 with 34 frames\n",
      "Trial 16, Accuracy: 0.5\n",
      "Trial 16 Final, True label: 1, Predicted label: 0, Walk LL: 1.0, Run LL: 0.0\n",
      "Running trial 17 with 33 frames\n",
      "Trial 17, Accuracy: 0.2727272727272727\n",
      "Trial 17 Final, True label: 1, Predicted label: 0, Walk LL: 1.0, Run LL: 0.0\n",
      "Running trial 18 with 69 frames\n",
      "Trial 18, Accuracy: 0.5507246376811594\n",
      "Trial 18 Final, True label: 0, Predicted label: 1, Walk LL: 0.0, Run LL: 1.0\n",
      "Running trial 19 with 60 frames\n",
      "Trial 19, Accuracy: 0.35\n",
      "Trial 19 Final, True label: 0, Predicted label: 1, Walk LL: 0.0, Run LL: 1.0\n",
      "Running trial 20 with 120 frames\n",
      "Trial 20, Accuracy: 0.475\n",
      "Trial 20 Final, True label: 0, Predicted label: 1, Walk LL: 0.0, Run LL: 1.0\n",
      "Running trial 21 with 99 frames\n",
      "Trial 21, Accuracy: 0.41414141414141414\n",
      "Trial 21 Final, True label: 0, Predicted label: 1, Walk LL: 0.0, Run LL: 1.0\n",
      "Running trial 22 with 64 frames\n",
      "Trial 22, Accuracy: 0.34375\n",
      "Trial 22 Final, True label: 0, Predicted label: 0, Walk LL: 1.0, Run LL: 0.0\n",
      "Running trial 23 with 83 frames\n",
      "Trial 23, Accuracy: 0.42168674698795183\n",
      "Trial 23 Final, True label: 0, Predicted label: 1, Walk LL: 0.0, Run LL: 1.0\n",
      "Running trial 24 with 104 frames\n",
      "Trial 24, Accuracy: 0.41346153846153844\n",
      "Trial 24 Final, True label: 0, Predicted label: 1, Walk LL: 0.0, Run LL: 1.0\n",
      "Running trial 25 with 76 frames\n",
      "Trial 25, Accuracy: 0.4473684210526316\n",
      "Trial 25 Final, True label: 0, Predicted label: 1, Walk LL: 0.0, Run LL: 1.0\n",
      "Running trial 26 with 62 frames\n",
      "Trial 26, Accuracy: 0.5483870967741935\n",
      "Trial 26 Final, True label: 0, Predicted label: 1, Walk LL: 0.0, Run LL: 1.0\n",
      "Running trial 27 with 61 frames\n",
      "Trial 27, Accuracy: 0.45901639344262296\n",
      "Trial 27 Final, True label: 0, Predicted label: 1, Walk LL: 0.0, Run LL: 1.0\n",
      "Running trial 28 with 63 frames\n",
      "Trial 28, Accuracy: 0.6190476190476191\n",
      "Trial 28 Final, True label: 0, Predicted label: 0, Walk LL: 1.0, Run LL: 0.0\n",
      "Running trial 29 with 53 frames\n",
      "Trial 29, Accuracy: 0.16981132075471697\n",
      "Trial 29 Final, True label: 0, Predicted label: 1, Walk LL: 0.0, Run LL: 1.0\n",
      "Running trial 30 with 97 frames\n",
      "Trial 30, Accuracy: 0.4536082474226804\n",
      "Trial 30 Final, True label: 0, Predicted label: 1, Walk LL: 0.0, Run LL: 1.0\n",
      "Running trial 31 with 60 frames\n",
      "Trial 31, Accuracy: 0.5\n",
      "Trial 31 Final, True label: 0, Predicted label: 1, Walk LL: 0.0, Run LL: 1.0\n",
      "Running trial 32 with 57 frames\n",
      "Trial 32, Accuracy: 0.40350877192982454\n",
      "Trial 32 Final, True label: 0, Predicted label: 1, Walk LL: 0.0, Run LL: 1.0\n",
      "Running trial 33 with 59 frames\n",
      "Trial 33, Accuracy: 0.3898305084745763\n",
      "Trial 33 Final, True label: 0, Predicted label: 0, Walk LL: 1.0, Run LL: 0.0\n",
      "Running trial 34 with 75 frames\n",
      "Trial 34, Accuracy: 0.49333333333333335\n",
      "Trial 34 Final, True label: 0, Predicted label: 1, Walk LL: 0.0, Run LL: 1.0\n",
      "Running trial 35 with 110 frames\n",
      "Trial 35, Accuracy: 0.5\n",
      "Trial 35 Final, True label: 0, Predicted label: 1, Walk LL: 0.0, Run LL: 1.0\n",
      "Running trial 36 with 105 frames\n",
      "Trial 36, Accuracy: 0.37142857142857144\n",
      "Trial 36 Final, True label: 0, Predicted label: 1, Walk LL: 0.0, Run LL: 1.0\n",
      "Running trial 37 with 135 frames\n",
      "Trial 37, Accuracy: 0.4740740740740741\n",
      "Trial 37 Final, True label: 0, Predicted label: 1, Walk LL: 0.0, Run LL: 1.0\n",
      "Running trial 38 with 113 frames\n",
      "Trial 38, Accuracy: 0.48672566371681414\n",
      "Trial 38 Final, True label: 0, Predicted label: 1, Walk LL: 0.0, Run LL: 1.0\n"
     ]
    }
   ],
   "source": [
    "for i, trial in enumerate(TEST_TRIALS):\n",
    "    label = TRUTH_LABELS[i]\n",
    "\n",
    "    # Get the data in an array format\n",
    "    data_arr = trial.as_dataframe()[reduced_columns].to_numpy(dtype=np.float32)[::5, :]\n",
    "\n",
    "    gpdm_pf.reset()\n",
    "    correct = 0\n",
    "    total = 0\n",
    "\n",
    "    print(f\"Running trial {i} with {len(data_arr)} frames\")\n",
    "\n",
    "    # Run the filter bank on the trial\n",
    "    for data in data_arr:\n",
    "        gpdm_pf.update(data)\n",
    "        predicted_label = gpdm_pf.get_most_likely_class()\n",
    "        latest_lls = gpdm_pf.class_probabilities()\n",
    "        walk_ll = latest_lls[0]\n",
    "        run_ll = latest_lls[1]\n",
    "\n",
    "        if predicted_label == label:\n",
    "            correct += 1\n",
    "        \n",
    "        total += 1\n",
    "\n",
    "    accuracy = correct / total\n",
    "\n",
    "    print(f\"Trial {i}, Accuracy: {accuracy}\")\n",
    "    print(f\"Trial {i} Final, True label: {label}, Predicted label: {predicted_label}, Walk LL: {walk_ll}, Run LL: {run_ll}\")\n"
   ]
  }
 ],
 "metadata": {
  "kernelspec": {
   "display_name": "gphd",
   "language": "python",
   "name": "python3"
  },
  "language_info": {
   "codemirror_mode": {
    "name": "ipython",
    "version": 3
   },
   "file_extension": ".py",
   "mimetype": "text/x-python",
   "name": "python",
   "nbconvert_exporter": "python",
   "pygments_lexer": "ipython3",
   "version": "3.12.6"
  }
 },
 "nbformat": 4,
 "nbformat_minor": 2
}
