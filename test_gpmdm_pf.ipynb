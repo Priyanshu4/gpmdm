{
 "cells": [
  {
   "cell_type": "code",
   "execution_count": 1,
   "metadata": {},
   "outputs": [
    {
     "name": "stderr",
     "output_type": "stream",
     "text": [
      "<frozen importlib._bootstrap>:488: RuntimeWarning: Your system is avx2 capable but pygame was not built with support for it. The performance of some of your blits could be adversely affected. Consider enabling compile time detection with environment variables like PYGAME_DETECT_AVX2=1 if you are compiling without cross compilation.\n"
     ]
    },
    {
     "name": "stdout",
     "output_type": "stream",
     "text": [
      "pygame 2.6.1 (SDL 2.30.7, Python 3.12.6)\n",
      "Hello from the pygame community. https://www.pygame.org/contribute.html\n"
     ]
    }
   ],
   "source": [
    "import numpy as np\n",
    "import torch \n",
    "from pathlib import Path\n",
    "\n",
    "from gpmdm import GPMDM\n",
    "from gpmdm_pf import GPMDM_PF\n",
    "from dataset_utils.mocap_labels import WALK_TRIALS_TRAIN, WALK_TRIALS_TEST, RUN_TRIALS_TRAIN, RUN_TRIALS_TEST\n",
    "import dataset_utils.select_joints as select_joints"
   ]
  },
  {
   "cell_type": "code",
   "execution_count": 2,
   "metadata": {},
   "outputs": [],
   "source": [
    "config_path = Path.cwd() / 'models' / 'gpmdm' / 'gpmdm_config.pth'\n",
    "state_path = Path.cwd() / 'models' / 'gpmdm' / 'gpmdm_state.pth'"
   ]
  },
  {
   "cell_type": "code",
   "execution_count": 3,
   "metadata": {},
   "outputs": [
    {
     "name": "stdout",
     "output_type": "stream",
     "text": [
      "Number of DOFs: 35\n"
     ]
    }
   ],
   "source": [
    "reduced_columns = WALK_TRIALS_TEST[0].get_columns_for_joints(select_joints.WALKING_SIMPLIFIED_JOINTS)\n",
    "DOFs = len(reduced_columns)\n",
    "print(f\"Number of DOFs: {DOFs}\")\n"
   ]
  },
  {
   "cell_type": "code",
   "execution_count": 4,
   "metadata": {},
   "outputs": [
    {
     "name": "stdout",
     "output_type": "stream",
     "text": [
      "Number of DOFs: 35\n"
     ]
    }
   ],
   "source": [
    "TEST_TRIALS = RUN_TRIALS_TEST + WALK_TRIALS_TEST\n",
    "TRUTH_LABELS = [1] * len(RUN_TRIALS_TEST) + [0] * len(WALK_TRIALS_TEST)\n",
    "\n",
    "reduced_columns = TEST_TRIALS[0].get_columns_for_joints(select_joints.WALKING_SIMPLIFIED_JOINTS)\n",
    "DOFs = len(reduced_columns)\n",
    "print(f\"Number of DOFs: {DOFs}\")"
   ]
  },
  {
   "cell_type": "code",
   "execution_count": 5,
   "metadata": {},
   "outputs": [],
   "source": [
    "d = 3 # latent space dimension\n",
    "DOFs = len(reduced_columns)  # number of degrees of freedom\n",
    "\n",
    "dyn_back_step = 1 # Number of time steps to look back in the dynamics GP\n",
    "\n",
    "# Initial values for hyperparameters\n",
    "y_lambdas_init = np.ones(DOFs)  # Signal standard deviation for observation GP\n",
    "y_lengthscales_init = np.ones(d)  # Lengthscales for observation GP\n",
    "y_sigma_n_init = 1e-2  # Noise standard deviation for observation GP\n",
    "\n",
    "x_lambdas_init = np.ones(d)  # Signal standard deviation for latent dynamics GP\n",
    "x_lengthscales_init = np.ones(dyn_back_step*d)  # Lengthscales for latent dynamics GP\n",
    "x_sigma_n_init = 1e-2  # Noise standard deviation for latent dynamics GP\n",
    "x_lin_coeff_init = np.ones(dyn_back_step*d + 1)  # Linear coefficients for latent dynamics GP\n"
   ]
  },
  {
   "cell_type": "code",
   "execution_count": 6,
   "metadata": {},
   "outputs": [],
   "source": [
    "gpdm = GPMDM(\n",
    "        D=DOFs,\n",
    "        d=d,\n",
    "        n_classes=2,\n",
    "        dyn_target='full',\n",
    "        dyn_back_step=dyn_back_step,\n",
    "        y_lambdas_init=y_lambdas_init,\n",
    "        y_lengthscales_init=y_lengthscales_init,\n",
    "        y_sigma_n_init=y_sigma_n_init,\n",
    "        x_lambdas_init=x_lambdas_init,\n",
    "        x_lengthscales_init=x_lengthscales_init,\n",
    "        x_sigma_n_init=x_sigma_n_init,\n",
    "        x_lin_coeff_init=x_lin_coeff_init\n",
    "    )"
   ]
  },
  {
   "cell_type": "code",
   "execution_count": 7,
   "metadata": {},
   "outputs": [
    {
     "name": "stdout",
     "output_type": "stream",
     "text": [
      "\u001b[32m\n",
      "GPDM correctly loaded\u001b[0m\n"
     ]
    }
   ],
   "source": [
    "gpdm.load(config_path, state_path)"
   ]
  },
  {
   "cell_type": "code",
   "execution_count": 8,
   "metadata": {},
   "outputs": [],
   "source": [
    "# Markov Transition Matrix between classes\n",
    "markov_transition_matrix = torch.tensor(\n",
    "    [[0.9, 0.1], \n",
    "     [0.1, 0.9]])\n",
    "\n",
    "# Build a gpdm_pf model\n",
    "gpdm_pf = GPMDM_PF(gpdm, \n",
    "                   markov_switching_model=markov_transition_matrix,\n",
    "                   num_particles=100,\n",
    "                   n_fresh_particles_at_each_timestep=99)\n",
    "   "
   ]
  },
  {
   "cell_type": "code",
   "execution_count": 9,
   "metadata": {},
   "outputs": [
    {
     "name": "stdout",
     "output_type": "stream",
     "text": [
      "Trial 0, Accuracy: 0.9666666666666667\n",
      "Trial 0 Final, True label: 1, Predicted label: 1, Walk LL: 0.0, Run LL: 1.0\n",
      "Trial 1, Accuracy: 1.0\n",
      "Trial 1 Final, True label: 1, Predicted label: 1, Walk LL: 0.0, Run LL: 1.0\n",
      "Trial 2, Accuracy: 1.0\n",
      "Trial 2 Final, True label: 1, Predicted label: 1, Walk LL: 0.0, Run LL: 1.0\n",
      "Trial 3, Accuracy: 1.0\n",
      "Trial 3 Final, True label: 1, Predicted label: 1, Walk LL: 0.0, Run LL: 1.0\n",
      "Trial 4, Accuracy: 1.0\n",
      "Trial 4 Final, True label: 1, Predicted label: 1, Walk LL: 0.0, Run LL: 1.0\n",
      "Trial 5, Accuracy: 0.9629629629629629\n",
      "Trial 5 Final, True label: 1, Predicted label: 1, Walk LL: 0.0, Run LL: 1.0\n",
      "Trial 6, Accuracy: 0.8484848484848485\n",
      "Trial 6 Final, True label: 1, Predicted label: 1, Walk LL: 0.0, Run LL: 1.0\n",
      "Trial 7, Accuracy: 0.8947368421052632\n",
      "Trial 7 Final, True label: 1, Predicted label: 1, Walk LL: 2.8569347820246227e-155, Run LL: 1.0\n",
      "Trial 8, Accuracy: 0.8148148148148148\n",
      "Trial 8 Final, True label: 1, Predicted label: 1, Walk LL: 1.352499766127014e-92, Run LL: 1.0\n",
      "Trial 9, Accuracy: 0.8928571428571429\n",
      "Trial 9 Final, True label: 1, Predicted label: 1, Walk LL: 0.0, Run LL: 1.0\n",
      "Trial 10, Accuracy: 0.7837837837837838\n",
      "Trial 10 Final, True label: 1, Predicted label: 1, Walk LL: 5.7679215711469055e-56, Run LL: 1.0\n",
      "Trial 11, Accuracy: 0.9117647058823529\n",
      "Trial 11 Final, True label: 1, Predicted label: 1, Walk LL: 2.1812767480753084e-131, Run LL: 1.0\n",
      "Trial 12, Accuracy: 0.9142857142857143\n",
      "Trial 12 Final, True label: 1, Predicted label: 1, Walk LL: 1.3771715871753447e-174, Run LL: 1.0\n",
      "Trial 13, Accuracy: 0.9375\n",
      "Trial 13 Final, True label: 1, Predicted label: 1, Walk LL: 1.5372712766119492e-298, Run LL: 1.0\n",
      "Trial 14, Accuracy: 0.9393939393939394\n",
      "Trial 14 Final, True label: 1, Predicted label: 1, Walk LL: 4.2947034136176693e-250, Run LL: 1.0\n",
      "Trial 15, Accuracy: 0.9393939393939394\n",
      "Trial 15 Final, True label: 1, Predicted label: 1, Walk LL: 3.6760983645948084e-107, Run LL: 1.0\n",
      "Trial 16, Accuracy: 0.9705882352941176\n",
      "Trial 16 Final, True label: 1, Predicted label: 1, Walk LL: 0.0, Run LL: 1.0\n",
      "Trial 17, Accuracy: 0.9696969696969697\n",
      "Trial 17 Final, True label: 1, Predicted label: 0, Walk LL: 1.0, Run LL: 1.0527855451039059e-261\n",
      "Trial 18, Accuracy: 0.3188405797101449\n",
      "Trial 18 Final, True label: 0, Predicted label: 1, Walk LL: 2.904318649303723e-141, Run LL: 1.0\n",
      "Trial 19, Accuracy: 0.2833333333333333\n",
      "Trial 19 Final, True label: 0, Predicted label: 1, Walk LL: 1.4870736873875987e-55, Run LL: 1.0\n",
      "Trial 20, Accuracy: 0.575\n",
      "Trial 20 Final, True label: 0, Predicted label: 1, Walk LL: 2.9343900706085494e-12, Run LL: 0.9999999999970657\n",
      "Trial 21, Accuracy: 0.43434343434343436\n",
      "Trial 21 Final, True label: 0, Predicted label: 0, Walk LL: 1.0, Run LL: 1.2151083774153542e-86\n",
      "Trial 22, Accuracy: 0.546875\n",
      "Trial 22 Final, True label: 0, Predicted label: 0, Walk LL: 1.0, Run LL: 2.1955344064085567e-146\n",
      "Trial 23, Accuracy: 0.40963855421686746\n",
      "Trial 23 Final, True label: 0, Predicted label: 0, Walk LL: 1.0, Run LL: 1.292896980545092e-21\n",
      "Trial 24, Accuracy: 0.5096153846153846\n",
      "Trial 24 Final, True label: 0, Predicted label: 1, Walk LL: 4.617257117589705e-13, Run LL: 0.9999999999995384\n",
      "Trial 25, Accuracy: 0.39473684210526316\n",
      "Trial 25 Final, True label: 0, Predicted label: 0, Walk LL: 0.9999999981203762, Run LL: 1.8796238895977974e-09\n",
      "Trial 26, Accuracy: 0.46774193548387094\n",
      "Trial 26 Final, True label: 0, Predicted label: 1, Walk LL: 2.6638684357553968e-36, Run LL: 1.0\n",
      "Trial 27, Accuracy: 0.4426229508196721\n",
      "Trial 27 Final, True label: 0, Predicted label: 1, Walk LL: 1.4363443116235574e-36, Run LL: 1.0\n",
      "Trial 28, Accuracy: 0.38095238095238093\n",
      "Trial 28 Final, True label: 0, Predicted label: 0, Walk LL: 1.0, Run LL: 3.2745373176749052e-118\n",
      "Trial 29, Accuracy: 0.6037735849056604\n",
      "Trial 29 Final, True label: 0, Predicted label: 0, Walk LL: 1.0, Run LL: 2.0997582703804854e-141\n",
      "Trial 30, Accuracy: 0.8350515463917526\n",
      "Trial 30 Final, True label: 0, Predicted label: 0, Walk LL: 1.0, Run LL: 4.5020901055277786e-111\n",
      "Trial 31, Accuracy: 0.85\n",
      "Trial 31 Final, True label: 0, Predicted label: 0, Walk LL: 1.0, Run LL: 1.4395703488647944e-197\n",
      "Trial 32, Accuracy: 0.8947368421052632\n",
      "Trial 32 Final, True label: 0, Predicted label: 1, Walk LL: 0.3224830228087643, Run LL: 0.6775169771912358\n",
      "Trial 33, Accuracy: 0.864406779661017\n",
      "Trial 33 Final, True label: 0, Predicted label: 0, Walk LL: 1.0, Run LL: 2.931417757031093e-188\n",
      "Trial 34, Accuracy: 0.68\n",
      "Trial 34 Final, True label: 0, Predicted label: 1, Walk LL: 3.0297045110669167e-24, Run LL: 1.0\n",
      "Trial 35, Accuracy: 0.6090909090909091\n",
      "Trial 35 Final, True label: 0, Predicted label: 0, Walk LL: 1.0, Run LL: 3.0245784106283e-191\n",
      "Trial 36, Accuracy: 0.45714285714285713\n",
      "Trial 36 Final, True label: 0, Predicted label: 0, Walk LL: 1.0, Run LL: 7.837801896435456e-90\n",
      "Trial 37, Accuracy: 0.6148148148148148\n",
      "Trial 37 Final, True label: 0, Predicted label: 1, Walk LL: 1.282040999308136e-95, Run LL: 1.0\n",
      "Trial 38, Accuracy: 0.49557522123893805\n",
      "Trial 38 Final, True label: 0, Predicted label: 1, Walk LL: 1.075284960441124e-70, Run LL: 1.0\n"
     ]
    }
   ],
   "source": [
    "for i, trial in enumerate(TEST_TRIALS):\n",
    "    label = TRUTH_LABELS[i]\n",
    "\n",
    "    # Get the data in an array format\n",
    "    data_arr = trial.as_dataframe()[reduced_columns].to_numpy(dtype=np.float32)[::5, :]\n",
    "\n",
    "    gpdm_pf.reset()\n",
    "    correct = 0\n",
    "    total = 0\n",
    "\n",
    "    # Run the filter bank on the trial\n",
    "    for data in data_arr:\n",
    "        gpdm_pf.update(data)\n",
    "        predicted_label = gpdm_pf.get_most_likely_class()\n",
    "        latest_lls = gpdm_pf.class_probabilities()\n",
    "        walk_ll = latest_lls[0]\n",
    "        run_ll = latest_lls[1]\n",
    "\n",
    "        if predicted_label == label:\n",
    "            correct += 1\n",
    "        \n",
    "        total += 1\n",
    "\n",
    "    accuracy = correct / total\n",
    "\n",
    "    print(f\"Trial {i}, Accuracy: {accuracy}\")\n",
    "    print(f\"Trial {i} Final, True label: {label}, Predicted label: {predicted_label}, Walk LL: {walk_ll}, Run LL: {run_ll}\")\n"
   ]
  }
 ],
 "metadata": {
  "kernelspec": {
   "display_name": "gphd",
   "language": "python",
   "name": "python3"
  },
  "language_info": {
   "codemirror_mode": {
    "name": "ipython",
    "version": 3
   },
   "file_extension": ".py",
   "mimetype": "text/x-python",
   "name": "python",
   "nbconvert_exporter": "python",
   "pygments_lexer": "ipython3",
   "version": "3.12.6"
  }
 },
 "nbformat": 4,
 "nbformat_minor": 2
}
