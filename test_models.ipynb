{
 "cells": [
  {
   "cell_type": "code",
   "execution_count": 1,
   "metadata": {},
   "outputs": [
    {
     "name": "stderr",
     "output_type": "stream",
     "text": [
      "<frozen importlib._bootstrap>:488: RuntimeWarning: Your system is avx2 capable but pygame was not built with support for it. The performance of some of your blits could be adversely affected. Consider enabling compile time detection with environment variables like PYGAME_DETECT_AVX2=1 if you are compiling without cross compilation.\n"
     ]
    },
    {
     "name": "stdout",
     "output_type": "stream",
     "text": [
      "pygame 2.6.1 (SDL 2.30.7, Python 3.12.6)\n",
      "Hello from the pygame community. https://www.pygame.org/contribute.html\n"
     ]
    }
   ],
   "source": [
    "import numpy as np\n",
    "import matplotlib.pyplot as plt\n",
    "from pathlib import Path\n",
    "\n",
    "from gpdm import GPDM\n",
    "from gpdm_filter import GPDM_Filter\n",
    "from gpdm_ukf import GPDM_UKF\n",
    "\n",
    "from dataset_utils.mocap_labels import RUN_TRIALS_TEST, WALK_TRIALS_TEST\n",
    "import dataset_utils.select_joints as select_joints"
   ]
  },
  {
   "cell_type": "code",
   "execution_count": 2,
   "metadata": {},
   "outputs": [
    {
     "name": "stdout",
     "output_type": "stream",
     "text": [
      "Number of DOFs: 35\n"
     ]
    }
   ],
   "source": [
    "TEST_TRIALS = RUN_TRIALS_TEST + WALK_TRIALS_TEST\n",
    "TRUTH_LABELS = [1] * len(RUN_TRIALS_TEST) + [0] * len(WALK_TRIALS_TEST)\n",
    "\n",
    "reduced_columns = TEST_TRIALS[0].get_columns_for_joints(select_joints.WALKING_SIMPLIFIED_JOINTS)\n",
    "DOFs = len(reduced_columns)\n",
    "print(f\"Number of DOFs: {DOFs}\")\n"
   ]
  },
  {
   "cell_type": "code",
   "execution_count": 3,
   "metadata": {},
   "outputs": [],
   "source": [
    "d = 3 # latent space dimension\n",
    "DOFs = len(reduced_columns)  # number of degrees of freedom\n",
    "\n",
    "dyn_back_step = 1 # Number of time steps to look back in the dynamics GP\n",
    "\n",
    "# Initial values for hyperparameters\n",
    "y_lambdas_init = np.ones(DOFs)  # Signal standard deviation for observation GP\n",
    "y_lengthscales_init = np.ones(d)  # Lengthscales for observation GP\n",
    "y_sigma_n_init = 1e-2  # Noise standard deviation for observation GP\n",
    "\n",
    "x_lambdas_init = np.ones(d)  # Signal standard deviation for latent dynamics GP\n",
    "x_lengthscales_init = np.ones(dyn_back_step*d)  # Lengthscales for latent dynamics GP\n",
    "x_sigma_n_init = 1e-2  # Noise standard deviation for latent dynamics GP\n",
    "x_lin_coeff_init = np.ones(dyn_back_step*d + 1)  # Linear coefficients for latent dynamics GP"
   ]
  },
  {
   "cell_type": "code",
   "execution_count": 4,
   "metadata": {},
   "outputs": [
    {
     "name": "stdout",
     "output_type": "stream",
     "text": [
      "\u001b[32m\n",
      "GPDM correctly loaded\u001b[0m\n"
     ]
    }
   ],
   "source": [
    "model_dir = Path().cwd() / 'models' / 'epochs_1k'\n",
    "walk_config = model_dir / 'walk_gpdm_config.pth'\n",
    "walk_state = model_dir / 'walk_gpdm_state.pth'\n",
    "\n",
    "walk_gpdm =  GPDM(\n",
    "        D=DOFs,\n",
    "        d=d,\n",
    "        dyn_target='full',\n",
    "        dyn_back_step=dyn_back_step,\n",
    "        y_lambdas_init=y_lambdas_init,\n",
    "        y_lengthscales_init=y_lengthscales_init,\n",
    "        y_sigma_n_init=y_sigma_n_init,\n",
    "        x_lambdas_init=x_lambdas_init,\n",
    "        x_lengthscales_init=x_lengthscales_init,\n",
    "        x_sigma_n_init=x_sigma_n_init,\n",
    "        x_lin_coeff_init=x_lin_coeff_init\n",
    "    )\n",
    "walk_gpdm.load(walk_config, walk_state, False)\n",
    "walk_gpdm_filter = GPDM_UKF(walk_gpdm)\n",
    "#walk_gpdm_filter = GPDM_Filter(walk_gpdm)\n"
   ]
  },
  {
   "cell_type": "code",
   "execution_count": 5,
   "metadata": {},
   "outputs": [
    {
     "name": "stdout",
     "output_type": "stream",
     "text": [
      "\u001b[32m\n",
      "GPDM correctly loaded\u001b[0m\n"
     ]
    }
   ],
   "source": [
    "run_config = model_dir / 'run_gpdm_config.pth'\n",
    "run_state = model_dir / 'run_gpdm_state.pth'\n",
    "\n",
    "run_gpdm =  GPDM(\n",
    "        D=DOFs,\n",
    "        d=d,\n",
    "        dyn_target='full',\n",
    "        dyn_back_step=dyn_back_step,\n",
    "        y_lambdas_init=y_lambdas_init,\n",
    "        y_lengthscales_init=y_lengthscales_init,\n",
    "        y_sigma_n_init=y_sigma_n_init,\n",
    "        x_lambdas_init=x_lambdas_init,\n",
    "        x_lengthscales_init=x_lengthscales_init,\n",
    "        x_sigma_n_init=x_sigma_n_init,\n",
    "        x_lin_coeff_init=x_lin_coeff_init\n",
    "    )\n",
    "\n",
    "run_gpdm.load(run_config, run_state, False)\n",
    "run_gpdm_filter = GPDM_UKF(run_gpdm)\n",
    "#run_gpdm_filter = GPDM_Filter(run_gpdm)\n"
   ]
  },
  {
   "cell_type": "code",
   "execution_count": 6,
   "metadata": {},
   "outputs": [
    {
     "name": "stderr",
     "output_type": "stream",
     "text": [
      "c:\\Users\\agpri\\OneDrive\\Documents\\GitHub\\gp-human-dynamics\\gpdm_ukf.py:290: UserWarning: The use of `x.T` on tensors of dimension other than 2 to reverse their shape is deprecated and it will throw an error in a future release. Consider `x.mT` to transpose batches of matrices or `x.permute(*torch.arange(x.ndim - 1, -1, -1))` to reverse the dimensions of a tensor. (Triggered internally at C:\\b\\abs_e1nmgx0bk6\\croot\\pytorch-select_1725478824526\\work\\aten\\src\\ATen\\native\\TensorShape.cpp:3679.)\n",
      "  ll = -0.5 * (torch.log(torch.det(self.S)) + (self.residual).T @ torch.inverse(self.S) @ (self.residual))\n"
     ]
    },
    {
     "name": "stdout",
     "output_type": "stream",
     "text": [
      "Trial 0: True label: 1, Predicted label: 1, Walk LL: -90.40590557228516, Run LL: -26.409789045360085\n",
      "Trial 1: True label: 1, Predicted label: 1, Walk LL: -60.008893712372, Run LL: -7.32161604676115\n",
      "Trial 2: True label: 1, Predicted label: 1, Walk LL: -72.84636996842492, Run LL: -8.836298474439445\n",
      "Trial 3: True label: 1, Predicted label: 1, Walk LL: -99.65919787996988, Run LL: -30.57035853880285\n",
      "Trial 4: True label: 1, Predicted label: 1, Walk LL: -88.7570576179837, Run LL: -32.54148520921389\n",
      "Trial 5: True label: 1, Predicted label: 1, Walk LL: -104.10049794080878, Run LL: -34.3168216374586\n",
      "Trial 6: True label: 1, Predicted label: 1, Walk LL: -68.56665570835794, Run LL: -21.483580717436894\n",
      "Trial 7: True label: 1, Predicted label: 1, Walk LL: -39.276945196516124, Run LL: 1.424409897516398\n",
      "Trial 8: True label: 1, Predicted label: 1, Walk LL: -69.88533603666129, Run LL: -48.70731907707932\n",
      "Trial 9: True label: 1, Predicted label: 1, Walk LL: -78.51274796283131, Run LL: -62.07387627748811\n",
      "Trial 10: True label: 1, Predicted label: 1, Walk LL: -61.824807030359224, Run LL: -11.959137818376107\n",
      "Trial 11: True label: 1, Predicted label: 1, Walk LL: -83.18597577346468, Run LL: -19.506841616094945\n",
      "Trial 12: True label: 1, Predicted label: 1, Walk LL: -69.12810348974092, Run LL: -9.860623755837423\n",
      "Trial 13: True label: 1, Predicted label: 1, Walk LL: -68.99584385197817, Run LL: -16.529119192549174\n",
      "Trial 14: True label: 1, Predicted label: 1, Walk LL: -79.56164062818992, Run LL: -29.423892399015372\n",
      "Trial 15: True label: 1, Predicted label: 1, Walk LL: -80.40892863629982, Run LL: -20.823287557339867\n",
      "Trial 16: True label: 1, Predicted label: 1, Walk LL: -76.33759759781701, Run LL: -11.299858495335599\n",
      "Trial 17: True label: 1, Predicted label: 1, Walk LL: -71.55473153657844, Run LL: -17.66017958919997\n",
      "Trial 18: True label: 0, Predicted label: 0, Walk LL: -0.7016378338688583, Run LL: -3.4063487600178775\n",
      "Trial 19: True label: 0, Predicted label: 1, Walk LL: -2.1013146964749296, Run LL: 13.27923388586359\n",
      "Trial 20: True label: 0, Predicted label: 0, Walk LL: -11.103712034757265, Run LL: -36.87424566223173\n",
      "Trial 21: True label: 0, Predicted label: 1, Walk LL: -30.8434565205379, Run LL: 6.436673890184267\n",
      "Trial 22: True label: 0, Predicted label: 0, Walk LL: 17.42861348887002, Run LL: -7.22567549235616\n",
      "Trial 23: True label: 0, Predicted label: 1, Walk LL: -4.545966837871788, Run LL: -0.8178137703114317\n",
      "Trial 24: True label: 0, Predicted label: 0, Walk LL: -15.038112475479835, Run LL: -24.871208619079127\n",
      "Trial 25: True label: 0, Predicted label: 0, Walk LL: 14.226593449278923, Run LL: -2.239709317390364\n",
      "Trial 26: True label: 0, Predicted label: 1, Walk LL: 0.5387124212648473, Run LL: 13.040620001582134\n",
      "Trial 27: True label: 0, Predicted label: 0, Walk LL: 22.042411385695793, Run LL: 21.525953388613935\n",
      "Trial 28: True label: 0, Predicted label: 0, Walk LL: 1.5943064609077737, Run LL: -27.126117500319708\n",
      "Trial 29: True label: 0, Predicted label: 0, Walk LL: -1.1936178165532283, Run LL: -3.9679913722544597\n",
      "Trial 30: True label: 0, Predicted label: 0, Walk LL: 30.879731001896822, Run LL: 12.873698669598852\n",
      "Trial 31: True label: 0, Predicted label: 0, Walk LL: 23.59867583873161, Run LL: -7.835327175393061\n",
      "Trial 32: True label: 0, Predicted label: 0, Walk LL: 6.848398549633124, Run LL: 6.82692598566917\n",
      "Trial 33: True label: 0, Predicted label: 1, Walk LL: -0.6083129404215271, Run LL: 1.4819448809763145\n",
      "Trial 34: True label: 0, Predicted label: 1, Walk LL: 18.869510139502673, Run LL: 22.791497547006365\n",
      "Trial 35: True label: 0, Predicted label: 1, Walk LL: 8.02919376007479, Run LL: 13.574946995122914\n",
      "Trial 36: True label: 0, Predicted label: 1, Walk LL: -61.32228125039222, Run LL: -19.688250883047814\n",
      "Trial 37: True label: 0, Predicted label: 0, Walk LL: -45.71817187592424, Run LL: -49.42793523253924\n",
      "Trial 38: True label: 0, Predicted label: 0, Walk LL: -12.44314592002074, Run LL: -18.150033827975832\n"
     ]
    }
   ],
   "source": [
    "# Iterate over the test trials and classify them\n",
    "\n",
    "for i, trial in enumerate(TEST_TRIALS):\n",
    "    label = TRUTH_LABELS[i]\n",
    "\n",
    "    # Get the data in an array format\n",
    "    data_arr = trial.as_dataframe()[reduced_columns].to_numpy(dtype=np.float32)[::5, :]\n",
    "\n",
    "    walk_gpdm_filter.reset()\n",
    "    run_gpdm_filter.reset()\n",
    "\n",
    "    # Run each data point through the GPDM filter\n",
    "    for timestep in range(data_arr.shape[0]):\n",
    "        data_point = data_arr[timestep, :]\n",
    "        walk_ll = walk_gpdm_filter.update(data_point)\n",
    "        if walk_ll is None:\n",
    "            walk_ll = walk_gpdm_filter.log_likelihood()\n",
    "        run_ll = run_gpdm_filter.update(data_point)\n",
    "        if run_ll is None:\n",
    "            run_ll = run_gpdm_filter.log_likelihood()\n",
    "\n",
    "    # Classify the trial using the final log likelihoods\n",
    "    if walk_ll > run_ll:\n",
    "        predicted_label = 0\n",
    "    else:\n",
    "        predicted_label = 1\n",
    "\n",
    "    print(f\"Trial {i}: True label: {label}, Predicted label: {predicted_label}, Walk LL: {walk_ll}, Run LL: {run_ll}\")\n",
    "\n"
   ]
  }
 ],
 "metadata": {
  "kernelspec": {
   "display_name": "gphd",
   "language": "python",
   "name": "python3"
  },
  "language_info": {
   "codemirror_mode": {
    "name": "ipython",
    "version": 3
   },
   "file_extension": ".py",
   "mimetype": "text/x-python",
   "name": "python",
   "nbconvert_exporter": "python",
   "pygments_lexer": "ipython3",
   "version": "3.12.6"
  }
 },
 "nbformat": 4,
 "nbformat_minor": 2
}
