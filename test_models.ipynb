{
 "cells": [
  {
   "cell_type": "code",
   "execution_count": 1,
   "metadata": {},
   "outputs": [
    {
     "name": "stderr",
     "output_type": "stream",
     "text": [
      "<frozen importlib._bootstrap>:488: RuntimeWarning: Your system is avx2 capable but pygame was not built with support for it. The performance of some of your blits could be adversely affected. Consider enabling compile time detection with environment variables like PYGAME_DETECT_AVX2=1 if you are compiling without cross compilation.\n"
     ]
    },
    {
     "name": "stdout",
     "output_type": "stream",
     "text": [
      "pygame 2.6.1 (SDL 2.30.7, Python 3.12.6)\n",
      "Hello from the pygame community. https://www.pygame.org/contribute.html\n"
     ]
    }
   ],
   "source": [
    "import numpy as np\n",
    "import matplotlib.pyplot as plt\n",
    "from pathlib import Path\n",
    "\n",
    "from gpdm import GPDM\n",
    "from gpdm_filter import GPDM_Filter\n",
    "from gpdm_ukf import GPDM_UKF\n",
    "\n",
    "from dataset_utils.mocap_labels import RUN_TRIALS_TEST, WALK_TRIALS_TEST\n",
    "import dataset_utils.select_joints as select_joints"
   ]
  },
  {
   "cell_type": "code",
   "execution_count": 2,
   "metadata": {},
   "outputs": [
    {
     "name": "stdout",
     "output_type": "stream",
     "text": [
      "Number of DOFs: 35\n"
     ]
    }
   ],
   "source": [
    "TEST_TRIALS = RUN_TRIALS_TEST + WALK_TRIALS_TEST\n",
    "TRUTH_LABELS = [1] * len(RUN_TRIALS_TEST) + [0] * len(WALK_TRIALS_TEST)\n",
    "\n",
    "reduced_columns = TEST_TRIALS[0].get_columns_for_joints(select_joints.WALKING_SIMPLIFIED_JOINTS)\n",
    "DOFs = len(reduced_columns)\n",
    "print(f\"Number of DOFs: {DOFs}\")\n"
   ]
  },
  {
   "cell_type": "code",
   "execution_count": 3,
   "metadata": {},
   "outputs": [],
   "source": [
    "d = 3 # latent space dimension\n",
    "DOFs = len(reduced_columns)  # number of degrees of freedom\n",
    "\n",
    "dyn_back_step = 1 # Number of time steps to look back in the dynamics GP\n",
    "\n",
    "# Initial values for hyperparameters\n",
    "y_lambdas_init = np.ones(DOFs)  # Signal standard deviation for observation GP\n",
    "y_lengthscales_init = np.ones(d)  # Lengthscales for observation GP\n",
    "y_sigma_n_init = 1e-2  # Noise standard deviation for observation GP\n",
    "\n",
    "x_lambdas_init = np.ones(d)  # Signal standard deviation for latent dynamics GP\n",
    "x_lengthscales_init = np.ones(dyn_back_step*d)  # Lengthscales for latent dynamics GP\n",
    "x_sigma_n_init = 1e-2  # Noise standard deviation for latent dynamics GP\n",
    "x_lin_coeff_init = np.ones(dyn_back_step*d + 1)  # Linear coefficients for latent dynamics GP"
   ]
  },
  {
   "cell_type": "code",
   "execution_count": 4,
   "metadata": {},
   "outputs": [
    {
     "name": "stdout",
     "output_type": "stream",
     "text": [
      "\u001b[32m\n",
      "GPDM correctly loaded\u001b[0m\n"
     ]
    }
   ],
   "source": [
    "model_dir = Path().cwd() / 'models' / 'epochs_1k'\n",
    "walk_config = model_dir / 'walk_gpdm_config.pth'\n",
    "walk_state = model_dir / 'walk_gpdm_state.pth'\n",
    "\n",
    "walk_gpdm =  GPDM(\n",
    "        D=DOFs,\n",
    "        d=d,\n",
    "        dyn_target='full',\n",
    "        dyn_back_step=dyn_back_step,\n",
    "        y_lambdas_init=y_lambdas_init,\n",
    "        y_lengthscales_init=y_lengthscales_init,\n",
    "        y_sigma_n_init=y_sigma_n_init,\n",
    "        x_lambdas_init=x_lambdas_init,\n",
    "        x_lengthscales_init=x_lengthscales_init,\n",
    "        x_sigma_n_init=x_sigma_n_init,\n",
    "        x_lin_coeff_init=x_lin_coeff_init\n",
    "    )\n",
    "walk_gpdm.load(walk_config, walk_state, False)\n",
    "walk_gpdm_filter = GPDM_UKF(walk_gpdm)\n",
    "#walk_gpdm_filter = GPDM_Filter(walk_gpdm)\n"
   ]
  },
  {
   "cell_type": "code",
   "execution_count": 5,
   "metadata": {},
   "outputs": [
    {
     "name": "stdout",
     "output_type": "stream",
     "text": [
      "\u001b[32m\n",
      "GPDM correctly loaded\u001b[0m\n"
     ]
    }
   ],
   "source": [
    "run_config = model_dir / 'run_gpdm_config.pth'\n",
    "run_state = model_dir / 'run_gpdm_state.pth'\n",
    "\n",
    "run_gpdm =  GPDM(\n",
    "        D=DOFs,\n",
    "        d=d,\n",
    "        dyn_target='full',\n",
    "        dyn_back_step=dyn_back_step,\n",
    "        y_lambdas_init=y_lambdas_init,\n",
    "        y_lengthscales_init=y_lengthscales_init,\n",
    "        y_sigma_n_init=y_sigma_n_init,\n",
    "        x_lambdas_init=x_lambdas_init,\n",
    "        x_lengthscales_init=x_lengthscales_init,\n",
    "        x_sigma_n_init=x_sigma_n_init,\n",
    "        x_lin_coeff_init=x_lin_coeff_init\n",
    "    )\n",
    "\n",
    "run_gpdm.load(run_config, run_state, False)\n",
    "run_gpdm_filter = GPDM_UKF(run_gpdm)\n",
    "#run_gpdm_filter = GPDM_Filter(run_gpdm)\n"
   ]
  },
  {
   "cell_type": "code",
   "execution_count": 6,
   "metadata": {},
   "outputs": [
    {
     "name": "stdout",
     "output_type": "stream",
     "text": [
      "Trial 0: True label: 1, Predicted label: 1, Walk LL: -122.56875423444875, Run LL: -58.572637707523626\n",
      "Walk IG: -52.170329431905344, Run IG: 10.211552496887052\n",
      "Trial 1: True label: 1, Predicted label: 1, Walk LL: -92.17174237453558, Run LL: -39.484464708924676\n",
      "Walk IG: -21.77331757199218, Run IG: 29.299725495486\n",
      "Trial 2: True label: 1, Predicted label: 1, Walk LL: -105.0092186305885, Run LL: -40.999147136603\n",
      "Walk IG: -34.610793828045104, Run IG: 27.785043067807678\n",
      "Trial 3: True label: 1, Predicted label: 1, Walk LL: -131.82204654213348, Run LL: -62.73320720096642\n",
      "Walk IG: -61.423621739590075, Run IG: 6.050983003444259\n",
      "Trial 4: True label: 1, Predicted label: 1, Walk LL: -120.91990628014729, Run LL: -64.70433387137744\n",
      "Walk IG: -50.521481477603885, Run IG: 4.079856333033234\n",
      "Trial 5: True label: 1, Predicted label: 1, Walk LL: -136.26334660297232, Run LL: -66.47967029962216\n",
      "Walk IG: -65.86492180042892, Run IG: 2.3045199047885205\n",
      "Trial 6: True label: 1, Predicted label: 1, Walk LL: -100.7295043705215, Run LL: -53.647209240476386\n",
      "Walk IG: -30.331079567978094, Run IG: 8.438735299503278\n",
      "Trial 7: True label: 1, Predicted label: 1, Walk LL: -71.43980446200146, Run LL: -30.738438764647157\n",
      "Walk IG: -1.041379659821871, Run IG: 38.04575143976352\n",
      "Trial 8: True label: 1, Predicted label: 1, Walk LL: -102.04818469882484, Run LL: -80.87016773924283\n",
      "Walk IG: -31.649759896281438, Run IG: -12.085977534832153\n",
      "Trial 9: True label: 1, Predicted label: 1, Walk LL: -110.67559662499484, Run LL: -94.23672493965164\n",
      "Walk IG: -40.277171822451436, Run IG: -25.45253473524096\n",
      "Trial 10: True label: 1, Predicted label: 1, Walk LL: -93.98755298904858, Run LL: -44.12198648053966\n",
      "Walk IG: -23.589128186528768, Run IG: 24.662203723871016\n",
      "Trial 11: True label: 1, Predicted label: 1, Walk LL: -115.3488244356282, Run LL: -51.669690278258486\n",
      "Walk IG: -44.9503996330848, Run IG: 17.11449992615219\n",
      "Trial 12: True label: 1, Predicted label: 1, Walk LL: -101.29095215190443, Run LL: -42.023472418000964\n",
      "Walk IG: -30.892527349361046, Run IG: 26.760717786409714\n",
      "Trial 13: True label: 1, Predicted label: 1, Walk LL: -101.15869251414169, Run LL: -48.6919678547127\n",
      "Walk IG: -30.76026771159829, Run IG: 20.092222349697977\n",
      "Trial 14: True label: 1, Predicted label: 1, Walk LL: -111.7244892903535, Run LL: -61.5867410611789\n",
      "Walk IG: -41.3260644878101, Run IG: 7.197449143231779\n",
      "Trial 15: True label: 1, Predicted label: 1, Walk LL: -112.57177729846335, Run LL: -52.98613621950342\n",
      "Walk IG: -42.17335249591994, Run IG: 15.798053984907256\n",
      "Trial 16: True label: 1, Predicted label: 1, Walk LL: -108.50044625998054, Run LL: -43.46270715749915\n",
      "Walk IG: -38.10202145743713, Run IG: 25.321483046911524\n",
      "Trial 17: True label: 1, Predicted label: 1, Walk LL: -103.71758019874197, Run LL: -49.823028251363525\n",
      "Walk IG: -33.31915539619857, Run IG: 18.961161953047153\n",
      "Trial 18: True label: 0, Predicted label: 0, Walk LL: -32.86436502421043, Run LL: -35.56919742218142\n",
      "Walk IG: 37.51453900798667, Run IG: 33.21499278222926\n",
      "Trial 19: True label: 0, Predicted label: 1, Walk LL: -34.26416335296466, Run LL: -18.893482942159253\n",
      "Walk IG: 35.34678561521841, Run IG: 49.89070726224405\n",
      "Walk residual: 171.3345109720155, Run residual: 174.2746175460745\n",
      "Trial 20: True label: 0, Predicted label: 0, Walk LL: -43.26656069692099, Run LL: -69.03709432442555\n",
      "Walk IG: 26.744792469235293, Run IG: -0.2529041236367817\n",
      "Trial 21: True label: 0, Predicted label: 1, Walk LL: -63.006304661880876, Run LL: -25.726174771979274\n",
      "Walk IG: 7.3698206674329185, Run IG: 43.058015432431404\n",
      "Walk residual: 156.7844698898713, Run residual: 157.3703672540143\n",
      "Trial 22: True label: 0, Predicted label: 0, Walk LL: -14.734235171995579, Run LL: -39.3885241545197\n",
      "Walk IG: 54.136798457907645, Run IG: 29.395666049890977\n",
      "Trial 23: True label: 0, Predicted label: 1, Walk LL: -36.70881555379188, Run LL: -32.980662432474986\n",
      "Walk IG: 33.671127333919756, Run IG: 35.80352777193569\n",
      "Walk residual: 153.82249157879576, Run residual: 154.08627333154496\n",
      "Trial 24: True label: 0, Predicted label: 0, Walk LL: -47.200961136353484, Run LL: -57.03405728124267\n",
      "Walk IG: 23.19340390486525, Run IG: 11.75013292316801\n",
      "Trial 25: True label: 0, Predicted label: 0, Walk LL: -17.936255212831156, Run LL: -34.40255797955392\n",
      "Walk IG: 51.07056950470792, Run IG: 34.381632224856645\n",
      "Trial 26: True label: 0, Predicted label: 1, Walk LL: -31.624136240523114, Run LL: -19.122228660581413\n",
      "Walk IG: 37.6478164724266, Run IG: 49.661961543829264\n",
      "Walk residual: 160.39494795636452, Run residual: 165.27631844480584\n",
      "Trial 27: True label: 0, Predicted label: 0, Walk LL: -10.120437274522871, Run LL: -10.636895273549598\n",
      "Walk IG: 58.9522777332179, Run IG: 58.14729493086108\n",
      "Trial 28: True label: 0, Predicted label: 0, Walk LL: -30.56854220129466, Run LL: -59.28896616248325\n",
      "Walk IG: 37.96617746946785, Run IG: 9.495224041927429\n",
      "Trial 29: True label: 0, Predicted label: 0, Walk LL: -33.35646647675472, Run LL: -36.13084003442056\n",
      "Walk IG: 35.10721234886665, Run IG: 32.62528140419667\n",
      "Trial 30: True label: 0, Predicted label: 0, Walk LL: -1.2831176602666403, Run LL: -19.289149992564703\n",
      "Walk IG: 67.94911782097964, Run IG: 49.495040211845975\n",
      "Trial 31: True label: 0, Predicted label: 0, Walk LL: -8.564173003708191, Run LL: -39.9981758375566\n",
      "Walk IG: 61.597136152274004, Run IG: 28.786014366854076\n",
      "Trial 32: True label: 0, Predicted label: 0, Walk LL: -25.314450512344678, Run LL: -25.335922676494377\n",
      "Walk IG: 44.8167913973971, Run IG: 43.4482675279163\n",
      "Trial 33: True label: 0, Predicted label: 1, Walk LL: -32.771056565464804, Run LL: -30.680903781187226\n",
      "Walk IG: 37.624110170491065, Run IG: 38.10328642322345\n",
      "Walk residual: 157.4286541617268, Run residual: 157.5309070453939\n",
      "Trial 34: True label: 0, Predicted label: 1, Walk LL: -13.2929780276434, Run LL: -9.371351115157168\n",
      "Walk IG: 57.100424783568954, Run IG: 59.41283908925351\n",
      "Walk residual: 157.05597430234704, Run residual: 157.1485550825978\n",
      "Trial 35: True label: 0, Predicted label: 1, Walk LL: -24.133654942630542, Run LL: -18.58790166704061\n",
      "Walk IG: 46.24352876346592, Run IG: 50.196288537370066\n",
      "Walk residual: 157.57068309826863, Run residual: 158.34436868754148\n",
      "Trial 36: True label: 0, Predicted label: 1, Walk LL: -93.48512991255535, Run LL: -51.851099545211355\n",
      "Walk IG: -23.536806169477472, Run IG: 16.933090659199323\n",
      "Walk residual: 149.24972033085817, Run residual: 154.91994687959783\n",
      "Trial 37: True label: 0, Predicted label: 0, Walk LL: -77.88102053808711, Run LL: -81.59078389470277\n",
      "Walk IG: -7.6813153217376, Run IG: -12.80659369029209\n",
      "Trial 38: True label: 0, Predicted label: 0, Walk LL: -44.605994582183556, Run LL: -50.31288249013936\n",
      "Walk IG: 25.499783283566174, Run IG: 18.47130771427132\n"
     ]
    }
   ],
   "source": [
    "# Iterate over the test trials and classify them\n",
    "\n",
    "for i, trial in enumerate(TEST_TRIALS):\n",
    "    label = TRUTH_LABELS[i]\n",
    "\n",
    "    # Get the data in an array format\n",
    "    data_arr = trial.as_dataframe()[reduced_columns].to_numpy(dtype=np.float32)[::5, :]\n",
    "\n",
    "    walk_gpdm_filter.reset()\n",
    "    run_gpdm_filter.reset()\n",
    "\n",
    "    # Run each data point through the GPDM filter\n",
    "    for timestep in range(data_arr.shape[0]):\n",
    "        data_point = data_arr[timestep, :]\n",
    "        walk_ll = walk_gpdm_filter.update(data_point)\n",
    "        if walk_ll is None:\n",
    "            walk_ll = walk_gpdm_filter.log_likelihood()\n",
    "            walk_ig = walk_gpdm_filter.expected_information_gain()\n",
    "        run_ll = run_gpdm_filter.update(data_point)\n",
    "        if run_ll is None:\n",
    "            run_ll = run_gpdm_filter.log_likelihood()\n",
    "            run_ig = run_gpdm_filter.expected_information_gain()\n",
    "\n",
    "\n",
    "    # Classify the trial using the final log likelihoods\n",
    "    if walk_ll > run_ll:\n",
    "        predicted_label = 0\n",
    "    else:\n",
    "        predicted_label = 1\n",
    "\n",
    "    print(f\"Trial {i}: True label: {label}, Predicted label: {predicted_label}, Walk LL: {walk_ll}, Run LL: {run_ll}\")\n",
    "    print(f\"Walk IG: {walk_ig}, Run IG: {run_ig}\")\n",
    "\n",
    "    if label != predicted_label:\n",
    "        # print the mangitude of residual for each model\n",
    "        walk_residual = walk_gpdm_filter.residual\n",
    "        run_residual = run_gpdm_filter.residual\n",
    "        print(f\"Walk residual: {np.linalg.norm(walk_residual)}, Run residual: {np.linalg.norm(run_residual)}\")\n",
    "\n",
    "\n"
   ]
  }
 ],
 "metadata": {
  "kernelspec": {
   "display_name": "gphd",
   "language": "python",
   "name": "python3"
  },
  "language_info": {
   "codemirror_mode": {
    "name": "ipython",
    "version": 3
   },
   "file_extension": ".py",
   "mimetype": "text/x-python",
   "name": "python",
   "nbconvert_exporter": "python",
   "pygments_lexer": "ipython3",
   "version": "3.12.6"
  }
 },
 "nbformat": 4,
 "nbformat_minor": 2
}
