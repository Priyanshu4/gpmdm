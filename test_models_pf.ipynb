{
 "cells": [
  {
   "cell_type": "code",
   "execution_count": 7,
   "metadata": {},
   "outputs": [],
   "source": [
    "import numpy as np\n",
    "import matplotlib.pyplot as plt\n",
    "from pathlib import Path\n",
    "\n",
    "from gpdm import GPDM\n",
    "from gpdm_filter import GPDM_Filter\n",
    "from gpdm_ukf import GPDM_UKF\n",
    "from gpdm_pf import GPDM_PF\n",
    "\n",
    "from dataset_utils.mocap_labels import RUN_TRIALS_TEST, WALK_TRIALS_TEST\n",
    "import dataset_utils.select_joints as select_joints"
   ]
  },
  {
   "cell_type": "code",
   "execution_count": 8,
   "metadata": {},
   "outputs": [
    {
     "name": "stdout",
     "output_type": "stream",
     "text": [
      "Number of DOFs: 35\n"
     ]
    }
   ],
   "source": [
    "TEST_TRIALS = RUN_TRIALS_TEST + WALK_TRIALS_TEST\n",
    "TRUTH_LABELS = [1] * len(RUN_TRIALS_TEST) + [0] * len(WALK_TRIALS_TEST)\n",
    "\n",
    "reduced_columns = TEST_TRIALS[0].get_columns_for_joints(select_joints.WALKING_SIMPLIFIED_JOINTS)\n",
    "DOFs = len(reduced_columns)\n",
    "print(f\"Number of DOFs: {DOFs}\")\n"
   ]
  },
  {
   "cell_type": "code",
   "execution_count": 9,
   "metadata": {},
   "outputs": [],
   "source": [
    "d = 3 # latent space dimension\n",
    "DOFs = len(reduced_columns)  # number of degrees of freedom\n",
    "\n",
    "dyn_back_step = 1 # Number of time steps to look back in the dynamics GP\n",
    "\n",
    "# Initial values for hyperparameters\n",
    "y_lambdas_init = np.ones(DOFs)  # Signal standard deviation for observation GP\n",
    "y_lengthscales_init = np.ones(d)  # Lengthscales for observation GP\n",
    "y_sigma_n_init = 1e-2  # Noise standard deviation for observation GP\n",
    "\n",
    "x_lambdas_init = np.ones(d)  # Signal standard deviation for latent dynamics GP\n",
    "x_lengthscales_init = np.ones(dyn_back_step*d)  # Lengthscales for latent dynamics GP\n",
    "x_sigma_n_init = 1e-2  # Noise standard deviation for latent dynamics GP\n",
    "x_lin_coeff_init = np.ones(dyn_back_step*d + 1)  # Linear coefficients for latent dynamics GP"
   ]
  },
  {
   "cell_type": "code",
   "execution_count": 10,
   "metadata": {},
   "outputs": [
    {
     "name": "stdout",
     "output_type": "stream",
     "text": [
      "\u001b[32m\n",
      "GPDM correctly loaded\u001b[0m\n"
     ]
    }
   ],
   "source": [
    "model_dir = Path().cwd() / 'models' / 'epochs_1k'\n",
    "walk_config = model_dir / 'walk_gpdm_config.pth'\n",
    "walk_state = model_dir / 'walk_gpdm_state.pth'\n",
    "\n",
    "walk_gpdm =  GPDM(\n",
    "        D=DOFs,\n",
    "        d=d,\n",
    "        dyn_target='full',\n",
    "        dyn_back_step=dyn_back_step,\n",
    "        y_lambdas_init=y_lambdas_init,\n",
    "        y_lengthscales_init=y_lengthscales_init,\n",
    "        y_sigma_n_init=y_sigma_n_init,\n",
    "        x_lambdas_init=x_lambdas_init,\n",
    "        x_lengthscales_init=x_lengthscales_init,\n",
    "        x_sigma_n_init=x_sigma_n_init,\n",
    "        x_lin_coeff_init=x_lin_coeff_init\n",
    "    )\n",
    "walk_gpdm.load(walk_config, walk_state, False)\n",
    "#walk_gpdm_filter = GPDM_UKF(walk_gpdm)\n",
    "#walk_gpdm_filter = GPDM_Filter(walk_gpdm)\n",
    "walk_gpdm_filter = GPDM_PF(walk_gpdm, num_particles=100)\n",
    "\n"
   ]
  },
  {
   "cell_type": "code",
   "execution_count": 11,
   "metadata": {},
   "outputs": [
    {
     "name": "stdout",
     "output_type": "stream",
     "text": [
      "\u001b[32m\n",
      "GPDM correctly loaded\u001b[0m\n"
     ]
    }
   ],
   "source": [
    "run_config = model_dir / 'run_gpdm_config.pth'\n",
    "run_state = model_dir / 'run_gpdm_state.pth'\n",
    "\n",
    "run_gpdm =  GPDM(\n",
    "        D=DOFs,\n",
    "        d=d,\n",
    "        dyn_target='full',\n",
    "        dyn_back_step=dyn_back_step,\n",
    "        y_lambdas_init=y_lambdas_init,\n",
    "        y_lengthscales_init=y_lengthscales_init,\n",
    "        y_sigma_n_init=y_sigma_n_init,\n",
    "        x_lambdas_init=x_lambdas_init,\n",
    "        x_lengthscales_init=x_lengthscales_init,\n",
    "        x_sigma_n_init=x_sigma_n_init,\n",
    "        x_lin_coeff_init=x_lin_coeff_init\n",
    "    )\n",
    "\n",
    "run_gpdm.load(run_config, run_state, False)\n",
    "#run_gpdm_filter = GPDM_UKF(run_gpdm)\n",
    "#run_gpdm_filter = GPDM_Filter(run_gpdm)\n",
    "run_gpdm_filter = GPDM_PF(run_gpdm, num_particles=100)\n",
    "\n"
   ]
  },
  {
   "cell_type": "code",
   "execution_count": 12,
   "metadata": {},
   "outputs": [
    {
     "name": "stdout",
     "output_type": "stream",
     "text": [
      "Trial 0: True label: 1, Predicted label: 1, Walk LL: -6.273519586687823, Run LL: 61.09098198272771\n",
      "Trial 1: True label: 1, Predicted label: 1, Walk LL: -22.962889988410176, Run LL: 29.299724731379996\n",
      "Trial 2: True label: 1, Predicted label: 1, Walk LL: -32.924133398943866, Run LL: 27.785042303701687\n",
      "Trial 3: True label: 1, Predicted label: 1, Walk LL: -15.506375130597595, Run LL: 85.24944135068449\n",
      "Trial 4: True label: 1, Predicted label: 1, Walk LL: -64.53775813888984, Run LL: 55.42569601609343\n",
      "Trial 5: True label: 1, Predicted label: 1, Walk LL: -44.75211643456906, Run LL: 2.3045191406825376\n",
      "Trial 6: True label: 1, Predicted label: 0, Walk LL: 17.6013023563533, Run LL: 10.082493496068288\n",
      "Trial 7: True label: 1, Predicted label: 1, Walk LL: 37.00217457815722, Run LL: 80.44115017280508\n",
      "Trial 8: True label: 1, Predicted label: 0, Walk LL: 24.51303758825931, Run LL: 2.019876338476829\n",
      "Trial 9: True label: 1, Predicted label: 0, Walk LL: 16.219191199775672, Run LL: -25.452535517711723\n",
      "Trial 10: True label: 1, Predicted label: 1, Walk LL: 6.18259217204856, Run LL: 24.662202886226552\n",
      "Trial 11: True label: 1, Predicted label: 1, Walk LL: 6.5587559577860635, Run LL: 68.96210544558893\n",
      "Trial 12: True label: 1, Predicted label: 1, Walk LL: 12.41569651003428, Run LL: 89.64307415966402\n",
      "Trial 13: True label: 1, Predicted label: 0, Walk LL: 21.032474753801576, Run LL: 20.09222158559198\n",
      "Trial 14: True label: 1, Predicted label: 1, Walk LL: 17.342646873142844, Run LL: 76.20749185338622\n",
      "Trial 15: True label: 1, Predicted label: 1, Walk LL: -0.5335591373645759, Run LL: 15.798053220801274\n",
      "Trial 16: True label: 1, Predicted label: 1, Walk LL: 12.904017201675185, Run LL: 25.321482282805533\n",
      "Trial 17: True label: 1, Predicted label: 1, Walk LL: 2.735773131699268, Run LL: 18.961161188941176\n",
      "Trial 18: True label: 0, Predicted label: 0, Walk LL: 66.89762508747108, Run LL: 33.21499201812327\n",
      "Trial 19: True label: 0, Predicted label: 0, Walk LL: 50.20110933223164, Run LL: 49.89069257864348\n",
      "Trial 20: True label: 0, Predicted label: 0, Walk LL: 27.08917574431641, Run LL: -0.253221623730858\n",
      "Trial 21: True label: 0, Predicted label: 1, Walk LL: 12.287479341148995, Run LL: 43.0580146683254\n",
      "Trial 22: True label: 0, Predicted label: 0, Walk LL: 95.13567376825006, Run LL: 29.395665285784972\n",
      "Trial 23: True label: 0, Predicted label: 0, Walk LL: 98.8422937091156, Run LL: 35.803527007829715\n",
      "Trial 24: True label: 0, Predicted label: 0, Walk LL: 87.35651431883308, Run LL: 11.750132159062012\n",
      "Trial 25: True label: 0, Predicted label: 0, Walk LL: 81.83104963405756, Run LL: 34.381629915353486\n",
      "Trial 26: True label: 0, Predicted label: 0, Walk LL: 84.40031954291615, Run LL: 49.66196077972327\n",
      "Trial 27: True label: 0, Predicted label: 0, Walk LL: 95.60513826682634, Run LL: 58.147294166755074\n",
      "Trial 28: True label: 0, Predicted label: 0, Walk LL: 80.7440987636315, Run LL: 9.495223277821431\n",
      "Trial 29: True label: 0, Predicted label: 0, Walk LL: 80.22306575029593, Run LL: 32.568250109234256\n",
      "Trial 30: True label: 0, Predicted label: 0, Walk LL: 98.18298822966679, Run LL: 49.495039447739984\n",
      "Trial 31: True label: 0, Predicted label: 0, Walk LL: 97.29419949523705, Run LL: 28.7860136027481\n",
      "Trial 32: True label: 0, Predicted label: 0, Walk LL: 100.02627815419943, Run LL: 43.448266763810324\n",
      "Trial 33: True label: 0, Predicted label: 0, Walk LL: 92.66690109668083, Run LL: 38.10328565872945\n",
      "Trial 34: True label: 0, Predicted label: 0, Walk LL: 93.91275352485688, Run LL: 59.412838325147504\n",
      "Trial 35: True label: 0, Predicted label: 0, Walk LL: 84.88299804308707, Run LL: 50.19628777326406\n",
      "Trial 36: True label: 0, Predicted label: 0, Walk LL: 32.307943021800966, Run LL: 16.933089895093325\n",
      "Trial 37: True label: 0, Predicted label: 0, Walk LL: -8.914097020706707, Run LL: -12.806594454398086\n",
      "Trial 38: True label: 0, Predicted label: 0, Walk LL: 24.932084855154994, Run LL: 18.4713069501653\n"
     ]
    }
   ],
   "source": [
    "# Iterate over the test trials and classify them\n",
    "\n",
    "for i, trial in enumerate(TEST_TRIALS):\n",
    "    label = TRUTH_LABELS[i]\n",
    "\n",
    "    # Get the data in an array format\n",
    "    data_arr = trial.as_dataframe()[reduced_columns].to_numpy(dtype=np.float32)[::5, :]\n",
    "\n",
    "    walk_gpdm_filter.reset()\n",
    "    run_gpdm_filter.reset()\n",
    "\n",
    "    # Run each data point through the GPDM filter\n",
    "    for timestep in range(data_arr.shape[0]):\n",
    "        data_point = data_arr[timestep, :]\n",
    "        walk_ll = walk_gpdm_filter.update(data_point)\n",
    "        if walk_ll is None:\n",
    "            walk_ll = walk_gpdm_filter.log_likelihood()\n",
    "        run_ll = run_gpdm_filter.update(data_point)\n",
    "        if run_ll is None:\n",
    "            run_ll = run_gpdm_filter.log_likelihood()\n",
    "\n",
    "\n",
    "    # Classify the trial using the final log likelihoods\n",
    "    if walk_ll > run_ll:\n",
    "        predicted_label = 0\n",
    "    else:\n",
    "        predicted_label = 1\n",
    "\n",
    "    print(f\"Trial {i}: True label: {label}, Predicted label: {predicted_label}, Walk LL: {walk_ll}, Run LL: {run_ll}\")\n"
   ]
  }
 ],
 "metadata": {
  "kernelspec": {
   "display_name": "gphd",
   "language": "python",
   "name": "python3"
  },
  "language_info": {
   "codemirror_mode": {
    "name": "ipython",
    "version": 3
   },
   "file_extension": ".py",
   "mimetype": "text/x-python",
   "name": "python",
   "nbconvert_exporter": "python",
   "pygments_lexer": "ipython3",
   "version": "3.12.6"
  }
 },
 "nbformat": 4,
 "nbformat_minor": 2
}
