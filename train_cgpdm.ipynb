{
 "cells": [
  {
   "cell_type": "code",
   "execution_count": null,
   "metadata": {},
   "outputs": [],
   "source": [
    "import numpy as np\n",
    "import matplotlib.pyplot as plt\n",
    "import matplotlib\n",
    "\n",
    "from cgpdm import CGPDM\n",
    "from dataset_utils.mocap_labels import WALK_TRIALS_TRAIN, WALK_TRIALS_TEST, RUN_TRIALS_TRAIN, RUN_TRIALS_TEST\n",
    "import dataset_utils.select_joints as select_joints"
   ]
  },
  {
   "cell_type": "code",
   "execution_count": null,
   "metadata": {},
   "outputs": [],
   "source": [
    "gpdm_save_name = \"cgpdm\""
   ]
  },
  {
   "cell_type": "code",
   "execution_count": null,
   "metadata": {},
   "outputs": [],
   "source": [
    "reduced_columns = WALK_TRIALS_TRAIN[0].get_columns_for_joints(select_joints.WALKING_SIMPLIFIED_JOINTS)\n",
    "DOFs = len(reduced_columns)\n",
    "print(f\"Number of DOFs: {DOFs}\")\n"
   ]
  },
  {
   "cell_type": "code",
   "execution_count": null,
   "metadata": {},
   "outputs": [],
   "source": [
    "walk_train_dfs = [trial.as_dataframe() for trial in WALK_TRIALS_TRAIN]\n",
    "walk_train_arrs = [df[reduced_columns].to_numpy().astype(np.float32)[::5, :] for df in walk_train_dfs]\n",
    "\n",
    "run_train_dfs = [trial.as_dataframe() for trial in RUN_TRIALS_TRAIN]\n",
    "run_train_arrs = [df[reduced_columns].to_numpy().astype(np.float32)[::5, :] for df in run_train_dfs]\n"
   ]
  },
  {
   "cell_type": "code",
   "execution_count": null,
   "metadata": {},
   "outputs": [],
   "source": [
    "d = 3 # latent space dimension\n",
    "DOFs = len(reduced_columns)  # number of degrees of freedom\n",
    "\n",
    "dyn_back_step = 1 # Number of time steps to look back in the dynamics GP\n",
    "\n",
    "# Initial values for hyperparameters\n",
    "y_lambdas_init = np.ones(DOFs)  # Signal standard deviation for observation GP\n",
    "y_lengthscales_init = np.ones(d)  # Lengthscales for observation GP\n",
    "y_sigma_n_init = 1e-2  # Noise standard deviation for observation GP\n",
    "\n",
    "x_lambdas_init = np.ones(d)  # Signal standard deviation for latent dynamics GP\n",
    "x_lengthscales_init = np.ones(dyn_back_step*d)  # Lengthscales for latent dynamics GP\n",
    "x_sigma_n_init = 1e-2  # Noise standard deviation for latent dynamics GP\n",
    "x_lin_coeff_init = np.ones(dyn_back_step*d + 1)  # Linear coefficients for latent dynamics GP\n"
   ]
  },
  {
   "cell_type": "code",
   "execution_count": null,
   "metadata": {},
   "outputs": [],
   "source": [
    "gpdm = CGPDM(\n",
    "        D=DOFs,\n",
    "        d=d,\n",
    "        n_classes=2,\n",
    "        dyn_target='full',\n",
    "        dyn_back_step=dyn_back_step,\n",
    "        y_lambdas_init=y_lambdas_init,\n",
    "        y_lengthscales_init=y_lengthscales_init,\n",
    "        y_sigma_n_init=y_sigma_n_init,\n",
    "        x_lambdas_init=x_lambdas_init,\n",
    "        x_lengthscales_init=x_lengthscales_init,\n",
    "        x_sigma_n_init=x_sigma_n_init,\n",
    "        x_lin_coeff_init=x_lin_coeff_init\n",
    "    )"
   ]
  },
  {
   "cell_type": "code",
   "execution_count": null,
   "metadata": {},
   "outputs": [],
   "source": [
    "for train_arr in walk_train_arrs[0:6]:\n",
    "    gpdm.add_data(train_arr, 0)\n",
    "for train_arr in run_train_arrs[0:6]:\n",
    "    gpdm.add_data(train_arr, 1)\n",
    "\n",
    "#print('Num. of sequences = '+str(gpdm.num_sequences)+' [Data points = '+str(np.concatenate(gpdm.observations_list, 0).shape[0])+']')\n"
   ]
  },
  {
   "cell_type": "code",
   "execution_count": null,
   "metadata": {},
   "outputs": [],
   "source": [
    "gpdm.init_X()  \n",
    "losses = gpdm.train_adam(num_opt_steps=1000, num_print_steps=10, lr=0.05)\n",
    "\n",
    "gpdm.save(f'{gpdm_save_name}_config.pth', f'{gpdm_save_name}_state.pth')  \n",
    "\n",
    "plt.plot(losses)"
   ]
  },
  {
   "cell_type": "code",
   "execution_count": null,
   "metadata": {},
   "outputs": [],
   "source": [
    "# Plot the latent space\n",
    "fig = plt.figure(figsize=(10, 6))\n",
    "ax = fig.add_subplot(111, projection='3d')\n",
    "X0 = gpdm.get_X_for_class(0).detach().numpy()\n",
    "X1 = gpdm.get_X_for_class(1).detach().numpy()\n",
    "\n",
    "# plot X0 in blue and X1 in red\n",
    "ax.plot(X0[:, 0], X0[:, 1], X0[:, 2], 'b')\n",
    "ax.plot(X1[:, 0], X1[:, 1], X1[:, 2], 'r')\n",
    "\n",
    "plt.show()"
   ]
  }
 ],
 "metadata": {
  "kernelspec": {
   "display_name": "gphd",
   "language": "python",
   "name": "python3"
  },
  "language_info": {
   "codemirror_mode": {
    "name": "ipython",
    "version": 3
   },
   "file_extension": ".py",
   "mimetype": "text/x-python",
   "name": "python",
   "nbconvert_exporter": "python",
   "pygments_lexer": "ipython3",
   "version": "3.12.6"
  }
 },
 "nbformat": 4,
 "nbformat_minor": 2
}
