{
 "cells": [
  {
   "cell_type": "code",
   "execution_count": 9,
   "metadata": {},
   "outputs": [],
   "source": [
    "import numpy as np\n",
    "import pandas as pd\n",
    "import matplotlib.pyplot as plt\n",
    "import random\n",
    "import torch\n",
    "\n",
    "from gpdm import GPDM\n",
    "from mocap_labels import WALK_TRIALS, RUN_TRIALS\n",
    "import select_joints"
   ]
  },
  {
   "cell_type": "code",
   "execution_count": null,
   "metadata": {},
   "outputs": [],
   "source": [
    "print(f\"Number of walk trials: {len(WALK_TRIALS)}\")\n",
    "print(f\"Number of run trials: {len(RUN_TRIALS)}\")"
   ]
  },
  {
   "cell_type": "code",
   "execution_count": null,
   "metadata": {},
   "outputs": [],
   "source": [
    "reduced_columns = WALK_TRIALS[0].get_columns_for_joints(select_joints.WALKING_SIMPLIFIED_JOINTS)\n",
    "DOFs = len(reduced_columns)\n",
    "print(f\"Number of DOFs: {DOFs}\")\n"
   ]
  },
  {
   "cell_type": "code",
   "execution_count": null,
   "metadata": {},
   "outputs": [],
   "source": [
    "walk_dfs = [trial.as_dataframe() for trial in WALK_TRIALS]\n",
    "run_dfs = [trial.as_dataframe() for trial in RUN_TRIALS]\n",
    "\n",
    "walk_arrs = [df[reduced_columns].to_numpy().astype(np.float32) for df in walk_dfs]\n",
    "run_arrs = [df[reduced_columns].to_numpy().astype(np.float32) for df in run_dfs]"
   ]
  },
  {
   "cell_type": "code",
   "execution_count": 5,
   "metadata": {},
   "outputs": [],
   "source": [
    "d = 3 # latent space dimension\n",
    "\n",
    "# Initial values for hyperparameters\n",
    "y_lambdas_init = np.ones(DOFs)  # Signal standard deviation for observation GP\n",
    "y_lengthscales_init = np.ones(d)  # Lengthscales for observation GP\n",
    "y_sigma_n_init = 1e-2  # Noise standard deviation for observation GP\n",
    "\n",
    "x_lambdas_init = np.ones(d)  # Signal standard deviation for latent dynamics GP\n",
    "x_lengthscales_init = np.ones(2*d)  # Lengthscales for latent dynamics GP (since dyn_back_step = 2)\n",
    "x_sigma_n_init = 1e-2  # Noise standard deviation for latent dynamics GP\n",
    "x_lin_coeff_init = np.ones(2*d + 1)  # Linear coefficients for latent dynamics GP\n"
   ]
  },
  {
   "cell_type": "code",
   "execution_count": 6,
   "metadata": {},
   "outputs": [],
   "source": [
    "# Create GPDM object\n",
    "walk_gpdm = GPDM(D=DOFs, d=d, \n",
    "                  dyn_target='full', dyn_back_step=2, \n",
    "                  y_lambdas_init=y_lambdas_init,\n",
    "                  y_lengthscales_init=y_lengthscales_init, \n",
    "                  y_sigma_n_init=y_sigma_n_init, \n",
    "                  x_lambdas_init=x_lambdas_init, \n",
    "                  x_lengthscales_init=x_lengthscales_init, \n",
    "                  x_sigma_n_init=x_sigma_n_init, \n",
    "                  x_lin_coeff_init=x_lin_coeff_init, \n",
    "                  flg_train_y_lambdas=True, \n",
    "                  flg_train_y_lengthscales=True, \n",
    "                  flg_train_y_sigma_n=True, \n",
    "                  flg_train_x_lambdas=True, \n",
    "                  flg_train_x_lengthscales=True, \n",
    "                  flg_train_x_sigma_n=True, \n",
    "                  flg_train_x_lin_coeff=True, \n",
    "                  sigma_n_num_Y=0., \n",
    "                  sigma_n_num_X=0., \n",
    "                  dtype=torch.float64, \n",
    "                  device=torch.device('cpu'))"
   ]
  },
  {
   "cell_type": "code",
   "execution_count": null,
   "metadata": {},
   "outputs": [],
   "source": [
    "# sample 5 random walk sequences for training\n",
    "\n",
    "walk_arrs_train = random.sample(walk_arrs, 5)\n",
    "\n",
    "for walk_arr in walk_arrs_train:\n",
    "    walk_gpdm.add_data(walk_arr)\n",
    "\n",
    "print('Num. of sequences = '+str(walk_gpdm.num_sequences)+' [Data points = '+str(np.concatenate(walk_gpdm.observations_list, 0).shape[0])+']')\n"
   ]
  },
  {
   "cell_type": "code",
   "execution_count": null,
   "metadata": {},
   "outputs": [],
   "source": [
    "walk_gpdm.init_X()  \n",
    "walk_gpdm.train_adam(num_opt_steps=1000, num_print_steps=10, lr=0.01)\n",
    "\n",
    "walk_gpdm.save('walk_gpdm_config.pth', 'walk_gpdm_state.pth')  "
   ]
  },
  {
   "cell_type": "code",
   "execution_count": null,
   "metadata": {},
   "outputs": [],
   "source": [
    "# Plot the latent space\n",
    "fig = plt.figure(figsize=(10, 6))\n",
    "ax = fig.add_subplot(111, projection='3d')\n",
    "X = walk_gpdm.X.detach().numpy()\n",
    "ax.plot(X[:, 0], X[:, 1], X[:, 2])"
   ]
  }
 ],
 "metadata": {
  "kernelspec": {
   "display_name": "gphd",
   "language": "python",
   "name": "python3"
  },
  "language_info": {
   "codemirror_mode": {
    "name": "ipython",
    "version": 3
   },
   "file_extension": ".py",
   "mimetype": "text/x-python",
   "name": "python",
   "nbconvert_exporter": "python",
   "pygments_lexer": "ipython3",
   "version": "3.12.6"
  }
 },
 "nbformat": 4,
 "nbformat_minor": 2
}
